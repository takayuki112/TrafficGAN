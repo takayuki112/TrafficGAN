{
 "cells": [
  {
   "cell_type": "code",
   "execution_count": 14,
   "metadata": {},
   "outputs": [],
   "source": [
    "import os\n",
    "import time\n",
    "import numpy as np\n",
    "import matplotlib.pyplot as plt\n",
    "from tqdm import tqdm\n",
    "\n",
    "import torch\n",
    "import torch.nn as nn\n",
    "import torch.optim as optim\n",
    "from torch.utils.data import DataLoader\n",
    "from torchvision import datasets, transforms\n",
    "from torch.utils.tensorboard import SummaryWriter\n",
    "\n",
    "from gangen.cdcgan import Generator, Discriminator"
   ]
  },
  {
   "cell_type": "code",
   "execution_count": 15,
   "metadata": {},
   "outputs": [
    {
     "name": "stdout",
     "output_type": "stream",
     "text": [
      "Using device: cuda\n"
     ]
    }
   ],
   "source": [
    "torch.manual_seed(42)\n",
    "np.random.seed(42)\n",
    "\n",
    "# Device configuration\n",
    "device = torch.device('cuda' if torch.cuda.is_available() else 'cpu')\n",
    "print(f\"Using device: {device}\")"
   ]
  },
  {
   "cell_type": "code",
   "execution_count": 16,
   "metadata": {},
   "outputs": [],
   "source": [
    "data_dir = './data/archive2'\n",
    "train_dir = os.path.join(data_dir, 'preprocessed', 'Train')\n",
    "\n",
    "data_tf = transforms.Compose([\n",
    "    transforms.RandomAffine(degrees=10, translate=(0.08, 0.08), scale=(0.9, 1.1), shear=5),\n",
    "    transforms.Resize((32, 32)),\n",
    "    \n",
    "    transforms.ColorJitter(brightness=0.2, contrast=0.2, saturation=0.2),\n",
    "   \n",
    "    transforms.RandomApply([transforms.GaussianBlur(kernel_size=3, sigma=(0.1, 1.0))], p=0.3),\n",
    "\n",
    "    transforms.ToTensor(),\n",
    "\n",
    "    transforms.RandomErasing(p=0.2, scale=(0.01, 0.04), ratio=(0.5, 2.0), value=0), # value=0 for black box\n",
    "\n",
    "    transforms.Normalize(mean=[0.5, 0.5, 0.5], std=[0.5, 0.5, 0.5]),\n",
    "])\n",
    "\n",
    "\n",
    "full_dataset = datasets.ImageFolder(root = train_dir, transform=data_tf)"
   ]
  },
  {
   "cell_type": "code",
   "execution_count": null,
   "metadata": {},
   "outputs": [],
   "source": [
    "# Hyperparameters\n",
    "# batch_size = 64\n",
    "# num_epochs = 200\n",
    "# beta1 = 0.5\n",
    "# beta2 = 0.999\n",
    "# noise_dim = 100\n",
    "# n_classes = 43\n",
    "# embedding_dim = 64\n",
    "# lambda_gp = 10\n",
    "\n",
    "# k_steps_D = 2\n",
    "# k_steps_G = 1 \n",
    "# log_interval = 5  # Log images every N epochs\n",
    "# checkpoint_interval = 10 # Save checkpoint every N epochs\n",
    "\n",
    "# label_smoothing = 0.0\n",
    "# learning_rate_g = 0.0001\n",
    "# learning_rate_d = 0.00015\n",
    "\n",
    "#tanay's hyperparmeters below\n",
    "# Core\n",
    "batch_size = 128        # More stable gradients, better batch norm stats\n",
    "num_epochs = 400        # GTSRB is diverse, needs longer training\n",
    "\n",
    "# Optimizer betas\n",
    "beta1 = 0.0             # Helps prevent mode collapse (as per WGAN-GP)\n",
    "beta2 = 0.99            # Slower, more stable Adam convergence\n",
    "\n",
    "# Noise and class setup\n",
    "noise_dim = 128         # Slightly higher, allows richer generation\n",
    "n_classes = 43\n",
    "embedding_dim = 128     # Larger embedding to better encode label semantics\n",
    "\n",
    "# Learning rates\n",
    "learning_rate_g = 0.0001\n",
    "learning_rate_d = 0.0004  # Discriminator learns faster to provide better gradients\n",
    "\n",
    "# GAN steps\n",
    "k_steps_D = 5           # Heavily favor Discriminator initially\n",
    "k_steps_G = 1\n",
    "\n",
    "# Logging & checkpoints\n",
    "log_interval = 10\n",
    "checkpoint_interval = 10\n",
    "\n",
    "# Label smoothing\n",
    "label_smoothing = 0.1   # Helps reduce overconfidence of D, better gradients for G\n"
   ]
  },
  {
   "cell_type": "code",
   "execution_count": 5,
   "metadata": {},
   "outputs": [
    {
     "name": "stdout",
     "output_type": "stream",
     "text": [
      "Class counts: [ 210. 2220. 2010. 1320. 2100. 2160.  780.  630.  420. 1110. 1200.  210.\n",
      " 2250.  360.  330.  390.  510.  270. 1500.  600.  240.  540.  270. 1410.\n",
      "  450.  780.  240.  689.  420. 1200.  390.  210. 2070.  300. 1980.  360.\n",
      "  240.  240. 1860.  420. 1440. 1410. 1470.]\n"
     ]
    }
   ],
   "source": [
    "data_loader = DataLoader(\n",
    "    full_dataset, \n",
    "    batch_size=batch_size,\n",
    "    shuffle=True,\n",
    "    num_workers=4,\n",
    "    drop_last=True,\n",
    "    pin_memory=True\n",
    ")\n",
    "\n",
    "targets = full_dataset.targets\n",
    "class_counts = np.bincount(targets, minlength=n_classes)\n",
    "class_counts = np.array(class_counts, dtype=np.float32)\n",
    "    \n",
    "print(\"Class counts:\", class_counts)\n",
    "\n",
    "class_weights = 1.0 / class_counts\n",
    "class_weights = class_weights / np.sum(class_weights) * n_classes  # Normalize\n",
    "class_weights = torch.FloatTensor(class_weights).to(device)"
   ]
  },
  {
   "cell_type": "code",
   "execution_count": 6,
   "metadata": {},
   "outputs": [
    {
     "name": "stdout",
     "output_type": "stream",
     "text": [
      "Input shape: torch.Size([64, 3, 32, 32])\n",
      "Label shape: torch.Size([64])\n"
     ]
    }
   ],
   "source": [
    "for inp, lab in data_loader:\n",
    "    print(\"Input shape:\", inp.shape)\n",
    "    print(\"Label shape:\", lab.shape)\n",
    "    break"
   ]
  },
  {
   "cell_type": "code",
   "execution_count": 7,
   "metadata": {},
   "outputs": [],
   "source": [
    "G = Generator(noise_dim=noise_dim, n_classes=n_classes, embedding_dim=embedding_dim).to(device)\n",
    "D = Discriminator(n_classes=n_classes, embedding_dim=embedding_dim).to(device)\n",
    "\n",
    "# Set up optimizers\n",
    "optimizer_G = optim.Adam(G.parameters(), lr=learning_rate_g, betas=(beta1, beta2))\n",
    "optimizer_D = optim.Adam(D.parameters(), lr=learning_rate_d, betas=(beta1, beta2))\n",
    "\n",
    "# Loss function \n",
    "# criterion = nn.BCEWithLogitsLoss()\n",
    "criterion = nn.MSELoss()"
   ]
  },
  {
   "cell_type": "code",
   "execution_count": 8,
   "metadata": {},
   "outputs": [],
   "source": [
    "# Setup TensorBoard\n",
    "log_dir = 'logs/gan_training_' + time.strftime(\"%Y%m%d-%H%M%S\")\n",
    "writer = SummaryWriter(log_dir)"
   ]
  },
  {
   "cell_type": "code",
   "execution_count": 9,
   "metadata": {},
   "outputs": [],
   "source": [
    "def generate_samples(num_samples=16, fixed_noise=None, fixed_labels=None):\n",
    "    G.eval()\n",
    "    with torch.no_grad():\n",
    "        if fixed_noise is None:\n",
    "            fixed_noise = torch.randn(num_samples, noise_dim, device=device)\n",
    "        if fixed_labels is None:\n",
    "            # Generate samples across different classes\n",
    "            fixed_labels = torch.arange(0, min(n_classes, num_samples), device=device)\n",
    "            # Repeat labels if num_samples > n_classes\n",
    "            fixed_labels = fixed_labels.repeat(num_samples // min(n_classes, num_samples) + 1)[:num_samples]\n",
    "        \n",
    "        fake_samples = G(fixed_noise, fixed_labels)\n",
    "        \n",
    "    # Convert to displayable format\n",
    "    fake_samples = fake_samples.detach().cpu().numpy()\n",
    "    # Move channel dimension to the end for plotting\n",
    "    fake_samples = np.transpose(fake_samples, (0, 2, 3, 1))\n",
    "    # Denormalize\n",
    "    fake_samples = fake_samples * 0.5 + 0.5\n",
    "    fake_samples = np.clip(fake_samples, -1, 1)\n",
    "    \n",
    "    return fake_samples, fixed_labels.cpu().numpy()\n",
    "\n",
    "# Create a grid of images\n",
    "def create_image_grid(images, labels, nrow=4):\n",
    "    ncol = images.shape[0] // nrow\n",
    "    fig, axes = plt.subplots(nrow, ncol, figsize=(12, 12))\n",
    "    \n",
    "    for i, ax in enumerate(axes.flat):\n",
    "        if i < images.shape[0]:\n",
    "            ax.imshow(images[i])\n",
    "            ax.set_title(f\"Class: {labels[i]}\")\n",
    "            ax.axis('off')\n",
    "    \n",
    "    plt.tight_layout()\n",
    "    return fig\n",
    "\n",
    "# Function to save checkpoint\n",
    "def save_checkpoint(G, D, optimizer_G, optimizer_D, epoch, filename='checkpoint.pth'):\n",
    "    torch.save({\n",
    "        'epoch': epoch,\n",
    "        'generator_state_dict': G.state_dict(),\n",
    "        'discriminator_state_dict': D.state_dict(),\n",
    "        'optimizer_G_state_dict': optimizer_G.state_dict(),\n",
    "        'optimizer_D_state_dict': optimizer_D.state_dict(),\n",
    "    }, filename)\n",
    "\n",
    "# Create fixed noise for visualization\n",
    "fixed_noise = torch.randn(16, noise_dim, device=device)\n",
    "fixed_labels = torch.arange(0, min(n_classes, 16), device=device).repeat(16 // min(n_classes, 16) + 1)[:16]\n",
    "\n"
   ]
  },
  {
   "cell_type": "code",
   "execution_count": 10,
   "metadata": {},
   "outputs": [
    {
     "name": "stdout",
     "output_type": "stream",
     "text": [
      "Starting training with k_steps_D=2, k_steps_G=1...\n"
     ]
    },
    {
     "name": "stderr",
     "output_type": "stream",
     "text": [
      "                                                                                                                                \r"
     ]
    },
    {
     "name": "stdout",
     "output_type": "stream",
     "text": [
      "Epoch [1/200] Summary - Avg D Loss: 0.0938, Avg G Loss: 0.8306, Avg D Real Acc: 0.995, Avg D Fake Acc: 0.237\n",
      "\n"
     ]
    },
    {
     "name": "stderr",
     "output_type": "stream",
     "text": [
      "                                                                                                                                \r"
     ]
    },
    {
     "name": "stdout",
     "output_type": "stream",
     "text": [
      "Epoch [2/200] Summary - Avg D Loss: 0.2082, Avg G Loss: 0.6885, Avg D Real Acc: 0.986, Avg D Fake Acc: 0.094\n",
      "\n"
     ]
    },
    {
     "name": "stderr",
     "output_type": "stream",
     "text": [
      "                                                                                                                                \r"
     ]
    },
    {
     "name": "stdout",
     "output_type": "stream",
     "text": [
      "Epoch [3/200] Summary - Avg D Loss: 0.2036, Avg G Loss: 0.6638, Avg D Real Acc: 0.986, Avg D Fake Acc: 0.047\n",
      "\n"
     ]
    },
    {
     "name": "stderr",
     "output_type": "stream",
     "text": [
      "                                                                                                                                \r"
     ]
    },
    {
     "name": "stdout",
     "output_type": "stream",
     "text": [
      "Epoch [4/200] Summary - Avg D Loss: 0.2147, Avg G Loss: 0.6381, Avg D Real Acc: 0.985, Avg D Fake Acc: 0.012\n",
      "\n"
     ]
    },
    {
     "name": "stderr",
     "output_type": "stream",
     "text": [
      "                                                                                                                                \r"
     ]
    },
    {
     "name": "stdout",
     "output_type": "stream",
     "text": [
      "Epoch [5/200] Summary - Avg D Loss: 0.2204, Avg G Loss: 0.6370, Avg D Real Acc: 0.984, Avg D Fake Acc: 0.007\n",
      "\n"
     ]
    },
    {
     "name": "stderr",
     "output_type": "stream",
     "text": [
      "                                                                                                                                \r"
     ]
    },
    {
     "name": "stdout",
     "output_type": "stream",
     "text": [
      "Epoch [6/200] Summary - Avg D Loss: 0.2251, Avg G Loss: 0.6271, Avg D Real Acc: 0.984, Avg D Fake Acc: 0.006\n",
      "\n"
     ]
    },
    {
     "name": "stderr",
     "output_type": "stream",
     "text": [
      "                                                                                                                                \r"
     ]
    },
    {
     "name": "stdout",
     "output_type": "stream",
     "text": [
      "Epoch [7/200] Summary - Avg D Loss: 0.2212, Avg G Loss: 0.6306, Avg D Real Acc: 0.986, Avg D Fake Acc: 0.007\n",
      "\n"
     ]
    },
    {
     "name": "stderr",
     "output_type": "stream",
     "text": [
      "                                                                                                                                \r"
     ]
    },
    {
     "name": "stdout",
     "output_type": "stream",
     "text": [
      "Epoch [8/200] Summary - Avg D Loss: 0.2191, Avg G Loss: 0.6341, Avg D Real Acc: 0.986, Avg D Fake Acc: 0.009\n",
      "\n"
     ]
    },
    {
     "name": "stderr",
     "output_type": "stream",
     "text": [
      "                                                                                                                                \r"
     ]
    },
    {
     "name": "stdout",
     "output_type": "stream",
     "text": [
      "Epoch [9/200] Summary - Avg D Loss: 0.2174, Avg G Loss: 0.6372, Avg D Real Acc: 0.987, Avg D Fake Acc: 0.009\n",
      "\n"
     ]
    },
    {
     "name": "stderr",
     "output_type": "stream",
     "text": [
      "                                                                                                                                 \r"
     ]
    },
    {
     "name": "stdout",
     "output_type": "stream",
     "text": [
      "Epoch [10/200] Summary - Avg D Loss: 0.2108, Avg G Loss: 0.6422, Avg D Real Acc: 0.985, Avg D Fake Acc: 0.011\n",
      "\n",
      "Checkpoint saved for epoch 10.\n"
     ]
    },
    {
     "name": "stderr",
     "output_type": "stream",
     "text": [
      "                                                                                                                                 \r"
     ]
    },
    {
     "name": "stdout",
     "output_type": "stream",
     "text": [
      "Epoch [11/200] Summary - Avg D Loss: 0.2079, Avg G Loss: 0.6536, Avg D Real Acc: 0.985, Avg D Fake Acc: 0.011\n",
      "\n"
     ]
    },
    {
     "name": "stderr",
     "output_type": "stream",
     "text": [
      "                                                                                                                                 \r"
     ]
    },
    {
     "name": "stdout",
     "output_type": "stream",
     "text": [
      "Epoch [12/200] Summary - Avg D Loss: 0.2048, Avg G Loss: 0.6574, Avg D Real Acc: 0.986, Avg D Fake Acc: 0.015\n",
      "\n"
     ]
    },
    {
     "name": "stderr",
     "output_type": "stream",
     "text": [
      "                                                                                                                                 \r"
     ]
    },
    {
     "name": "stdout",
     "output_type": "stream",
     "text": [
      "Epoch [13/200] Summary - Avg D Loss: 0.2047, Avg G Loss: 0.6552, Avg D Real Acc: 0.985, Avg D Fake Acc: 0.012\n",
      "\n"
     ]
    },
    {
     "name": "stderr",
     "output_type": "stream",
     "text": [
      "                                                                                                                                 \r"
     ]
    },
    {
     "name": "stdout",
     "output_type": "stream",
     "text": [
      "Epoch [14/200] Summary - Avg D Loss: 0.2028, Avg G Loss: 0.6639, Avg D Real Acc: 0.986, Avg D Fake Acc: 0.014\n",
      "\n"
     ]
    },
    {
     "name": "stderr",
     "output_type": "stream",
     "text": [
      "                                                                                                                                 \r"
     ]
    },
    {
     "name": "stdout",
     "output_type": "stream",
     "text": [
      "Epoch [15/200] Summary - Avg D Loss: 0.2005, Avg G Loss: 0.6652, Avg D Real Acc: 0.987, Avg D Fake Acc: 0.016\n",
      "\n"
     ]
    },
    {
     "name": "stderr",
     "output_type": "stream",
     "text": [
      "                                                                                                                                 \r"
     ]
    },
    {
     "name": "stdout",
     "output_type": "stream",
     "text": [
      "Epoch [16/200] Summary - Avg D Loss: 0.2028, Avg G Loss: 0.6619, Avg D Real Acc: 0.987, Avg D Fake Acc: 0.011\n",
      "\n"
     ]
    },
    {
     "name": "stderr",
     "output_type": "stream",
     "text": [
      "                                                                                                                                 \r"
     ]
    },
    {
     "name": "stdout",
     "output_type": "stream",
     "text": [
      "Epoch [17/200] Summary - Avg D Loss: 0.2007, Avg G Loss: 0.6629, Avg D Real Acc: 0.986, Avg D Fake Acc: 0.010\n",
      "\n"
     ]
    },
    {
     "name": "stderr",
     "output_type": "stream",
     "text": [
      "                                                                                                                                 \r"
     ]
    },
    {
     "name": "stdout",
     "output_type": "stream",
     "text": [
      "Epoch [18/200] Summary - Avg D Loss: 0.2019, Avg G Loss: 0.6626, Avg D Real Acc: 0.986, Avg D Fake Acc: 0.009\n",
      "\n"
     ]
    },
    {
     "name": "stderr",
     "output_type": "stream",
     "text": [
      "                                                                                                                                 \r"
     ]
    },
    {
     "name": "stdout",
     "output_type": "stream",
     "text": [
      "Epoch [19/200] Summary - Avg D Loss: 0.2026, Avg G Loss: 0.6636, Avg D Real Acc: 0.986, Avg D Fake Acc: 0.007\n",
      "\n"
     ]
    },
    {
     "name": "stderr",
     "output_type": "stream",
     "text": [
      "                                                                                                                                 \r"
     ]
    },
    {
     "name": "stdout",
     "output_type": "stream",
     "text": [
      "Epoch [20/200] Summary - Avg D Loss: 0.2039, Avg G Loss: 0.6601, Avg D Real Acc: 0.985, Avg D Fake Acc: 0.007\n",
      "\n",
      "Checkpoint saved for epoch 20.\n"
     ]
    },
    {
     "name": "stderr",
     "output_type": "stream",
     "text": [
      "                                                                                                                                 \r"
     ]
    },
    {
     "name": "stdout",
     "output_type": "stream",
     "text": [
      "Epoch [21/200] Summary - Avg D Loss: 0.2032, Avg G Loss: 0.6594, Avg D Real Acc: 0.985, Avg D Fake Acc: 0.006\n",
      "\n"
     ]
    },
    {
     "name": "stderr",
     "output_type": "stream",
     "text": [
      "                                                                                                                                 \r"
     ]
    },
    {
     "name": "stdout",
     "output_type": "stream",
     "text": [
      "Epoch [22/200] Summary - Avg D Loss: 0.2041, Avg G Loss: 0.6569, Avg D Real Acc: 0.986, Avg D Fake Acc: 0.006\n",
      "\n"
     ]
    },
    {
     "name": "stderr",
     "output_type": "stream",
     "text": [
      "                                                                                                                                 \r"
     ]
    },
    {
     "name": "stdout",
     "output_type": "stream",
     "text": [
      "Epoch [23/200] Summary - Avg D Loss: 0.2008, Avg G Loss: 0.6644, Avg D Real Acc: 0.985, Avg D Fake Acc: 0.008\n",
      "\n"
     ]
    },
    {
     "name": "stderr",
     "output_type": "stream",
     "text": [
      "                                                                                                                                 \r"
     ]
    },
    {
     "name": "stdout",
     "output_type": "stream",
     "text": [
      "Epoch [24/200] Summary - Avg D Loss: 0.2019, Avg G Loss: 0.6607, Avg D Real Acc: 0.986, Avg D Fake Acc: 0.004\n",
      "\n"
     ]
    },
    {
     "name": "stderr",
     "output_type": "stream",
     "text": [
      "                                                                                                                                 \r"
     ]
    },
    {
     "name": "stdout",
     "output_type": "stream",
     "text": [
      "Epoch [25/200] Summary - Avg D Loss: 0.1991, Avg G Loss: 0.6664, Avg D Real Acc: 0.987, Avg D Fake Acc: 0.006\n",
      "\n"
     ]
    },
    {
     "name": "stderr",
     "output_type": "stream",
     "text": [
      "                                                                                                                                 \r"
     ]
    },
    {
     "name": "stdout",
     "output_type": "stream",
     "text": [
      "Epoch [26/200] Summary - Avg D Loss: 0.1980, Avg G Loss: 0.6704, Avg D Real Acc: 0.984, Avg D Fake Acc: 0.011\n",
      "\n"
     ]
    },
    {
     "name": "stderr",
     "output_type": "stream",
     "text": [
      "                                                                                                                                 \r"
     ]
    },
    {
     "name": "stdout",
     "output_type": "stream",
     "text": [
      "Epoch [27/200] Summary - Avg D Loss: 0.1994, Avg G Loss: 0.6678, Avg D Real Acc: 0.986, Avg D Fake Acc: 0.009\n",
      "\n"
     ]
    },
    {
     "name": "stderr",
     "output_type": "stream",
     "text": [
      "                                                                                                                                 \r"
     ]
    },
    {
     "name": "stdout",
     "output_type": "stream",
     "text": [
      "Epoch [28/200] Summary - Avg D Loss: 0.1980, Avg G Loss: 0.6669, Avg D Real Acc: 0.988, Avg D Fake Acc: 0.008\n",
      "\n"
     ]
    },
    {
     "name": "stderr",
     "output_type": "stream",
     "text": [
      "                                                                                                                                 \r"
     ]
    },
    {
     "name": "stdout",
     "output_type": "stream",
     "text": [
      "Epoch [29/200] Summary - Avg D Loss: 0.1939, Avg G Loss: 0.6727, Avg D Real Acc: 0.987, Avg D Fake Acc: 0.008\n",
      "\n"
     ]
    },
    {
     "name": "stderr",
     "output_type": "stream",
     "text": [
      "                                                                                                                                 \r"
     ]
    },
    {
     "name": "stdout",
     "output_type": "stream",
     "text": [
      "Epoch [30/200] Summary - Avg D Loss: 0.1929, Avg G Loss: 0.6748, Avg D Real Acc: 0.987, Avg D Fake Acc: 0.008\n",
      "\n",
      "Checkpoint saved for epoch 30.\n"
     ]
    },
    {
     "name": "stderr",
     "output_type": "stream",
     "text": [
      "                                                                                                                                 \r"
     ]
    },
    {
     "name": "stdout",
     "output_type": "stream",
     "text": [
      "Epoch [31/200] Summary - Avg D Loss: 0.1951, Avg G Loss: 0.6708, Avg D Real Acc: 0.986, Avg D Fake Acc: 0.009\n",
      "\n"
     ]
    },
    {
     "name": "stderr",
     "output_type": "stream",
     "text": [
      "                                                                                                                                 \r"
     ]
    },
    {
     "name": "stdout",
     "output_type": "stream",
     "text": [
      "Epoch [32/200] Summary - Avg D Loss: 0.1933, Avg G Loss: 0.6726, Avg D Real Acc: 0.986, Avg D Fake Acc: 0.010\n",
      "\n"
     ]
    },
    {
     "name": "stderr",
     "output_type": "stream",
     "text": [
      "                                                                                                                                 \r"
     ]
    },
    {
     "name": "stdout",
     "output_type": "stream",
     "text": [
      "Epoch [33/200] Summary - Avg D Loss: 0.1873, Avg G Loss: 0.6798, Avg D Real Acc: 0.988, Avg D Fake Acc: 0.016\n",
      "\n"
     ]
    },
    {
     "name": "stderr",
     "output_type": "stream",
     "text": [
      "                                                                                                                                 \r"
     ]
    },
    {
     "name": "stdout",
     "output_type": "stream",
     "text": [
      "Epoch [34/200] Summary - Avg D Loss: 0.1885, Avg G Loss: 0.6780, Avg D Real Acc: 0.987, Avg D Fake Acc: 0.012\n",
      "\n"
     ]
    },
    {
     "name": "stderr",
     "output_type": "stream",
     "text": [
      "                                                                                                                                 \r"
     ]
    },
    {
     "name": "stdout",
     "output_type": "stream",
     "text": [
      "Epoch [35/200] Summary - Avg D Loss: 0.1864, Avg G Loss: 0.6830, Avg D Real Acc: 0.985, Avg D Fake Acc: 0.014\n",
      "\n"
     ]
    },
    {
     "name": "stderr",
     "output_type": "stream",
     "text": [
      "                                                                                                                                 \r"
     ]
    },
    {
     "name": "stdout",
     "output_type": "stream",
     "text": [
      "Epoch [36/200] Summary - Avg D Loss: 0.1829, Avg G Loss: 0.6886, Avg D Real Acc: 0.986, Avg D Fake Acc: 0.012\n",
      "\n"
     ]
    },
    {
     "name": "stderr",
     "output_type": "stream",
     "text": [
      "                                                                                                                                 \r"
     ]
    },
    {
     "name": "stdout",
     "output_type": "stream",
     "text": [
      "Epoch [37/200] Summary - Avg D Loss: 0.1878, Avg G Loss: 0.6821, Avg D Real Acc: 0.984, Avg D Fake Acc: 0.012\n",
      "\n"
     ]
    },
    {
     "name": "stderr",
     "output_type": "stream",
     "text": [
      "                                                                                                                                 \r"
     ]
    },
    {
     "name": "stdout",
     "output_type": "stream",
     "text": [
      "Epoch [38/200] Summary - Avg D Loss: 0.1856, Avg G Loss: 0.6853, Avg D Real Acc: 0.985, Avg D Fake Acc: 0.015\n",
      "\n"
     ]
    },
    {
     "name": "stderr",
     "output_type": "stream",
     "text": [
      "                                                                                                                                 \r"
     ]
    },
    {
     "name": "stdout",
     "output_type": "stream",
     "text": [
      "Epoch [39/200] Summary - Avg D Loss: 0.1840, Avg G Loss: 0.6874, Avg D Real Acc: 0.985, Avg D Fake Acc: 0.013\n",
      "\n"
     ]
    },
    {
     "name": "stderr",
     "output_type": "stream",
     "text": [
      "                                                                                                                                 \r"
     ]
    },
    {
     "name": "stdout",
     "output_type": "stream",
     "text": [
      "Epoch [40/200] Summary - Avg D Loss: 0.1806, Avg G Loss: 0.6907, Avg D Real Acc: 0.986, Avg D Fake Acc: 0.009\n",
      "\n",
      "Checkpoint saved for epoch 40.\n"
     ]
    },
    {
     "name": "stderr",
     "output_type": "stream",
     "text": [
      "                                                                                                                                 \r"
     ]
    },
    {
     "name": "stdout",
     "output_type": "stream",
     "text": [
      "Epoch [41/200] Summary - Avg D Loss: 0.1796, Avg G Loss: 0.6938, Avg D Real Acc: 0.986, Avg D Fake Acc: 0.016\n",
      "\n"
     ]
    },
    {
     "name": "stderr",
     "output_type": "stream",
     "text": [
      "                                                                                                                                 \r"
     ]
    },
    {
     "name": "stdout",
     "output_type": "stream",
     "text": [
      "Epoch [42/200] Summary - Avg D Loss: 0.1795, Avg G Loss: 0.6922, Avg D Real Acc: 0.986, Avg D Fake Acc: 0.015\n",
      "\n"
     ]
    },
    {
     "name": "stderr",
     "output_type": "stream",
     "text": [
      "                                                                                                                                 \r"
     ]
    },
    {
     "name": "stdout",
     "output_type": "stream",
     "text": [
      "Epoch [43/200] Summary - Avg D Loss: 0.1763, Avg G Loss: 0.6994, Avg D Real Acc: 0.986, Avg D Fake Acc: 0.015\n",
      "\n"
     ]
    },
    {
     "name": "stderr",
     "output_type": "stream",
     "text": [
      "                                                                                                                                 \r"
     ]
    },
    {
     "name": "stdout",
     "output_type": "stream",
     "text": [
      "Epoch [44/200] Summary - Avg D Loss: 0.1773, Avg G Loss: 0.7011, Avg D Real Acc: 0.987, Avg D Fake Acc: 0.018\n",
      "\n"
     ]
    },
    {
     "name": "stderr",
     "output_type": "stream",
     "text": [
      "                                                                                                                                 \r"
     ]
    },
    {
     "name": "stdout",
     "output_type": "stream",
     "text": [
      "Epoch [45/200] Summary - Avg D Loss: 0.1775, Avg G Loss: 0.6945, Avg D Real Acc: 0.985, Avg D Fake Acc: 0.014\n",
      "\n"
     ]
    },
    {
     "name": "stderr",
     "output_type": "stream",
     "text": [
      "                                                                                                                                 \r"
     ]
    },
    {
     "name": "stdout",
     "output_type": "stream",
     "text": [
      "Epoch [46/200] Summary - Avg D Loss: 0.1758, Avg G Loss: 0.6981, Avg D Real Acc: 0.987, Avg D Fake Acc: 0.018\n",
      "\n"
     ]
    },
    {
     "name": "stderr",
     "output_type": "stream",
     "text": [
      "                                                                                                                                 \r"
     ]
    },
    {
     "name": "stdout",
     "output_type": "stream",
     "text": [
      "Epoch [47/200] Summary - Avg D Loss: 0.1756, Avg G Loss: 0.6989, Avg D Real Acc: 0.987, Avg D Fake Acc: 0.016\n",
      "\n"
     ]
    },
    {
     "name": "stderr",
     "output_type": "stream",
     "text": [
      "                                                                                                                                 \r"
     ]
    },
    {
     "name": "stdout",
     "output_type": "stream",
     "text": [
      "Epoch [48/200] Summary - Avg D Loss: 0.1735, Avg G Loss: 0.6977, Avg D Real Acc: 0.987, Avg D Fake Acc: 0.015\n",
      "\n"
     ]
    },
    {
     "name": "stderr",
     "output_type": "stream",
     "text": [
      "                                                                                                                                 \r"
     ]
    },
    {
     "name": "stdout",
     "output_type": "stream",
     "text": [
      "Epoch [49/200] Summary - Avg D Loss: 0.1788, Avg G Loss: 0.6953, Avg D Real Acc: 0.984, Avg D Fake Acc: 0.014\n",
      "\n"
     ]
    },
    {
     "name": "stderr",
     "output_type": "stream",
     "text": [
      "                                                                                                                                 \r"
     ]
    },
    {
     "name": "stdout",
     "output_type": "stream",
     "text": [
      "Epoch [50/200] Summary - Avg D Loss: 0.1733, Avg G Loss: 0.7040, Avg D Real Acc: 0.985, Avg D Fake Acc: 0.018\n",
      "\n",
      "Checkpoint saved for epoch 50.\n"
     ]
    },
    {
     "name": "stderr",
     "output_type": "stream",
     "text": [
      "                                                                                                                                 \r"
     ]
    },
    {
     "name": "stdout",
     "output_type": "stream",
     "text": [
      "Epoch [51/200] Summary - Avg D Loss: 0.1728, Avg G Loss: 0.6986, Avg D Real Acc: 0.988, Avg D Fake Acc: 0.016\n",
      "\n"
     ]
    },
    {
     "name": "stderr",
     "output_type": "stream",
     "text": [
      "                                                                                                                                 \r"
     ]
    },
    {
     "name": "stdout",
     "output_type": "stream",
     "text": [
      "Epoch [52/200] Summary - Avg D Loss: 0.1719, Avg G Loss: 0.7056, Avg D Real Acc: 0.985, Avg D Fake Acc: 0.020\n",
      "\n"
     ]
    },
    {
     "name": "stderr",
     "output_type": "stream",
     "text": [
      "                                                                                                                                 \r"
     ]
    },
    {
     "name": "stdout",
     "output_type": "stream",
     "text": [
      "Epoch [53/200] Summary - Avg D Loss: 0.1698, Avg G Loss: 0.7067, Avg D Real Acc: 0.985, Avg D Fake Acc: 0.015\n",
      "\n"
     ]
    },
    {
     "name": "stderr",
     "output_type": "stream",
     "text": [
      "                                                                                                                                 \r"
     ]
    },
    {
     "name": "stdout",
     "output_type": "stream",
     "text": [
      "Epoch [54/200] Summary - Avg D Loss: 0.1680, Avg G Loss: 0.7098, Avg D Real Acc: 0.987, Avg D Fake Acc: 0.022\n",
      "\n"
     ]
    },
    {
     "name": "stderr",
     "output_type": "stream",
     "text": [
      "                                                                                                                                 \r"
     ]
    },
    {
     "name": "stdout",
     "output_type": "stream",
     "text": [
      "Epoch [55/200] Summary - Avg D Loss: 0.1673, Avg G Loss: 0.7087, Avg D Real Acc: 0.986, Avg D Fake Acc: 0.019\n",
      "\n"
     ]
    },
    {
     "name": "stderr",
     "output_type": "stream",
     "text": [
      "                                                                                                                                 \r"
     ]
    },
    {
     "name": "stdout",
     "output_type": "stream",
     "text": [
      "Epoch [56/200] Summary - Avg D Loss: 0.1691, Avg G Loss: 0.7093, Avg D Real Acc: 0.987, Avg D Fake Acc: 0.021\n",
      "\n"
     ]
    },
    {
     "name": "stderr",
     "output_type": "stream",
     "text": [
      "                                                                                                                                 \r"
     ]
    },
    {
     "name": "stdout",
     "output_type": "stream",
     "text": [
      "Epoch [57/200] Summary - Avg D Loss: 0.1649, Avg G Loss: 0.7123, Avg D Real Acc: 0.987, Avg D Fake Acc: 0.020\n",
      "\n"
     ]
    },
    {
     "name": "stderr",
     "output_type": "stream",
     "text": [
      "                                                                                                                                 \r"
     ]
    },
    {
     "name": "stdout",
     "output_type": "stream",
     "text": [
      "Epoch [58/200] Summary - Avg D Loss: 0.1655, Avg G Loss: 0.7137, Avg D Real Acc: 0.984, Avg D Fake Acc: 0.019\n",
      "\n"
     ]
    },
    {
     "name": "stderr",
     "output_type": "stream",
     "text": [
      "                                                                                                                                 \r"
     ]
    },
    {
     "name": "stdout",
     "output_type": "stream",
     "text": [
      "Epoch [59/200] Summary - Avg D Loss: 0.1637, Avg G Loss: 0.7193, Avg D Real Acc: 0.986, Avg D Fake Acc: 0.022\n",
      "\n"
     ]
    },
    {
     "name": "stderr",
     "output_type": "stream",
     "text": [
      "                                                                                                                                 \r"
     ]
    },
    {
     "name": "stdout",
     "output_type": "stream",
     "text": [
      "Epoch [60/200] Summary - Avg D Loss: 0.1665, Avg G Loss: 0.7110, Avg D Real Acc: 0.986, Avg D Fake Acc: 0.019\n",
      "\n",
      "Deleted old checkpoint: cgan_gtsrb_ksteps_epoch_0010.pth\n",
      "Deleted old checkpoint: cgan_gtsrb_ksteps_epoch_0020.pth\n",
      "Deleted old checkpoint: cgan_gtsrb_ksteps_epoch_0030.pth\n",
      "Deleted old checkpoint: cgan_gtsrb_ksteps_epoch_0040.pth\n",
      "Deleted old checkpoint: cgan_gtsrb_ksteps_epoch_0050.pth\n",
      "Checkpoint saved for epoch 60.\n"
     ]
    },
    {
     "name": "stderr",
     "output_type": "stream",
     "text": [
      "                                                                                                                                 \r"
     ]
    },
    {
     "name": "stdout",
     "output_type": "stream",
     "text": [
      "Epoch [61/200] Summary - Avg D Loss: 0.1651, Avg G Loss: 0.7124, Avg D Real Acc: 0.987, Avg D Fake Acc: 0.018\n",
      "\n"
     ]
    },
    {
     "name": "stderr",
     "output_type": "stream",
     "text": [
      "                                                                                                                                 \r"
     ]
    },
    {
     "name": "stdout",
     "output_type": "stream",
     "text": [
      "Epoch [62/200] Summary - Avg D Loss: 0.1673, Avg G Loss: 0.7071, Avg D Real Acc: 0.986, Avg D Fake Acc: 0.020\n",
      "\n"
     ]
    },
    {
     "name": "stderr",
     "output_type": "stream",
     "text": [
      "                                                                                                                                 \r"
     ]
    },
    {
     "name": "stdout",
     "output_type": "stream",
     "text": [
      "Epoch [63/200] Summary - Avg D Loss: 0.1624, Avg G Loss: 0.7154, Avg D Real Acc: 0.987, Avg D Fake Acc: 0.024\n",
      "\n"
     ]
    },
    {
     "name": "stderr",
     "output_type": "stream",
     "text": [
      "                                                                                                                                 \r"
     ]
    },
    {
     "name": "stdout",
     "output_type": "stream",
     "text": [
      "Epoch [64/200] Summary - Avg D Loss: 0.1684, Avg G Loss: 0.7096, Avg D Real Acc: 0.984, Avg D Fake Acc: 0.015\n",
      "\n"
     ]
    },
    {
     "name": "stderr",
     "output_type": "stream",
     "text": [
      "                                                                                                                                 \r"
     ]
    },
    {
     "name": "stdout",
     "output_type": "stream",
     "text": [
      "Epoch [65/200] Summary - Avg D Loss: 0.1667, Avg G Loss: 0.7103, Avg D Real Acc: 0.985, Avg D Fake Acc: 0.017\n",
      "\n"
     ]
    },
    {
     "name": "stderr",
     "output_type": "stream",
     "text": [
      "                                                                                                                                 \r"
     ]
    },
    {
     "name": "stdout",
     "output_type": "stream",
     "text": [
      "Epoch [66/200] Summary - Avg D Loss: 0.1611, Avg G Loss: 0.7180, Avg D Real Acc: 0.987, Avg D Fake Acc: 0.021\n",
      "\n"
     ]
    },
    {
     "name": "stderr",
     "output_type": "stream",
     "text": [
      "                                                                                                                                 \r"
     ]
    },
    {
     "name": "stdout",
     "output_type": "stream",
     "text": [
      "Epoch [67/200] Summary - Avg D Loss: 0.1644, Avg G Loss: 0.7152, Avg D Real Acc: 0.985, Avg D Fake Acc: 0.021\n",
      "\n"
     ]
    },
    {
     "name": "stderr",
     "output_type": "stream",
     "text": [
      "                                                                                                                                 \r"
     ]
    },
    {
     "name": "stdout",
     "output_type": "stream",
     "text": [
      "Epoch [68/200] Summary - Avg D Loss: 0.1637, Avg G Loss: 0.7163, Avg D Real Acc: 0.987, Avg D Fake Acc: 0.023\n",
      "\n"
     ]
    },
    {
     "name": "stderr",
     "output_type": "stream",
     "text": [
      "                                                                                                                                 \r"
     ]
    },
    {
     "name": "stdout",
     "output_type": "stream",
     "text": [
      "Epoch [69/200] Summary - Avg D Loss: 0.1614, Avg G Loss: 0.7193, Avg D Real Acc: 0.988, Avg D Fake Acc: 0.021\n",
      "\n"
     ]
    },
    {
     "name": "stderr",
     "output_type": "stream",
     "text": [
      "                                                                                                                                 \r"
     ]
    },
    {
     "name": "stdout",
     "output_type": "stream",
     "text": [
      "Epoch [70/200] Summary - Avg D Loss: 0.1647, Avg G Loss: 0.7127, Avg D Real Acc: 0.987, Avg D Fake Acc: 0.016\n",
      "\n",
      "Checkpoint saved for epoch 70.\n"
     ]
    },
    {
     "name": "stderr",
     "output_type": "stream",
     "text": [
      "                                                                                                                                 \r"
     ]
    },
    {
     "name": "stdout",
     "output_type": "stream",
     "text": [
      "Epoch [71/200] Summary - Avg D Loss: 0.1604, Avg G Loss: 0.7202, Avg D Real Acc: 0.986, Avg D Fake Acc: 0.023\n",
      "\n"
     ]
    },
    {
     "name": "stderr",
     "output_type": "stream",
     "text": [
      "                                                                                                                                 \r"
     ]
    },
    {
     "name": "stdout",
     "output_type": "stream",
     "text": [
      "Epoch [72/200] Summary - Avg D Loss: 0.1606, Avg G Loss: 0.7185, Avg D Real Acc: 0.985, Avg D Fake Acc: 0.020\n",
      "\n"
     ]
    },
    {
     "name": "stderr",
     "output_type": "stream",
     "text": [
      "                                                                                                                                 \r"
     ]
    },
    {
     "name": "stdout",
     "output_type": "stream",
     "text": [
      "Epoch [73/200] Summary - Avg D Loss: 0.1584, Avg G Loss: 0.7241, Avg D Real Acc: 0.987, Avg D Fake Acc: 0.023\n",
      "\n"
     ]
    },
    {
     "name": "stderr",
     "output_type": "stream",
     "text": [
      "                                                                                                                                 \r"
     ]
    },
    {
     "name": "stdout",
     "output_type": "stream",
     "text": [
      "Epoch [74/200] Summary - Avg D Loss: 0.1578, Avg G Loss: 0.7235, Avg D Real Acc: 0.987, Avg D Fake Acc: 0.024\n",
      "\n"
     ]
    },
    {
     "name": "stderr",
     "output_type": "stream",
     "text": [
      "                                                                                                                                 \r"
     ]
    },
    {
     "name": "stdout",
     "output_type": "stream",
     "text": [
      "Epoch [75/200] Summary - Avg D Loss: 0.1554, Avg G Loss: 0.7265, Avg D Real Acc: 0.988, Avg D Fake Acc: 0.029\n",
      "\n"
     ]
    },
    {
     "name": "stderr",
     "output_type": "stream",
     "text": [
      "                                                                                                                                 \r"
     ]
    },
    {
     "name": "stdout",
     "output_type": "stream",
     "text": [
      "Epoch [76/200] Summary - Avg D Loss: 0.1571, Avg G Loss: 0.7266, Avg D Real Acc: 0.987, Avg D Fake Acc: 0.029\n",
      "\n"
     ]
    },
    {
     "name": "stderr",
     "output_type": "stream",
     "text": [
      "                                                                                                                                 \r"
     ]
    },
    {
     "name": "stdout",
     "output_type": "stream",
     "text": [
      "Epoch [77/200] Summary - Avg D Loss: 0.1574, Avg G Loss: 0.7252, Avg D Real Acc: 0.986, Avg D Fake Acc: 0.026\n",
      "\n"
     ]
    },
    {
     "name": "stderr",
     "output_type": "stream",
     "text": [
      "                                                                                                                                 \r"
     ]
    },
    {
     "name": "stdout",
     "output_type": "stream",
     "text": [
      "Epoch [78/200] Summary - Avg D Loss: 0.1552, Avg G Loss: 0.7247, Avg D Real Acc: 0.987, Avg D Fake Acc: 0.023\n",
      "\n"
     ]
    },
    {
     "name": "stderr",
     "output_type": "stream",
     "text": [
      "                                                                                                                                 \r"
     ]
    },
    {
     "name": "stdout",
     "output_type": "stream",
     "text": [
      "Epoch [79/200] Summary - Avg D Loss: 0.1565, Avg G Loss: 0.7281, Avg D Real Acc: 0.988, Avg D Fake Acc: 0.024\n",
      "\n"
     ]
    },
    {
     "name": "stderr",
     "output_type": "stream",
     "text": [
      "                                                                                                                                 \r"
     ]
    },
    {
     "name": "stdout",
     "output_type": "stream",
     "text": [
      "Epoch [80/200] Summary - Avg D Loss: 0.1539, Avg G Loss: 0.7312, Avg D Real Acc: 0.986, Avg D Fake Acc: 0.027\n",
      "\n",
      "Checkpoint saved for epoch 80.\n"
     ]
    },
    {
     "name": "stderr",
     "output_type": "stream",
     "text": [
      "                                                                                                                                 \r"
     ]
    },
    {
     "name": "stdout",
     "output_type": "stream",
     "text": [
      "Epoch [81/200] Summary - Avg D Loss: 0.1546, Avg G Loss: 0.7282, Avg D Real Acc: 0.987, Avg D Fake Acc: 0.021\n",
      "\n"
     ]
    },
    {
     "name": "stderr",
     "output_type": "stream",
     "text": [
      "                                                                                                                                 \r"
     ]
    },
    {
     "name": "stdout",
     "output_type": "stream",
     "text": [
      "Epoch [82/200] Summary - Avg D Loss: 0.1491, Avg G Loss: 0.7373, Avg D Real Acc: 0.988, Avg D Fake Acc: 0.032\n",
      "\n"
     ]
    },
    {
     "name": "stderr",
     "output_type": "stream",
     "text": [
      "                                                                                                                                 \r"
     ]
    },
    {
     "name": "stdout",
     "output_type": "stream",
     "text": [
      "Epoch [83/200] Summary - Avg D Loss: 0.1507, Avg G Loss: 0.7318, Avg D Real Acc: 0.988, Avg D Fake Acc: 0.033\n",
      "\n"
     ]
    },
    {
     "name": "stderr",
     "output_type": "stream",
     "text": [
      "                                                                                                                                 \r"
     ]
    },
    {
     "name": "stdout",
     "output_type": "stream",
     "text": [
      "Epoch [84/200] Summary - Avg D Loss: 0.1529, Avg G Loss: 0.7323, Avg D Real Acc: 0.988, Avg D Fake Acc: 0.028\n",
      "\n"
     ]
    },
    {
     "name": "stderr",
     "output_type": "stream",
     "text": [
      "                                                                                                                                 \r"
     ]
    },
    {
     "name": "stdout",
     "output_type": "stream",
     "text": [
      "Epoch [85/200] Summary - Avg D Loss: 0.1527, Avg G Loss: 0.7306, Avg D Real Acc: 0.989, Avg D Fake Acc: 0.027\n",
      "\n"
     ]
    },
    {
     "name": "stderr",
     "output_type": "stream",
     "text": [
      "                                                                                                                                 \r"
     ]
    },
    {
     "name": "stdout",
     "output_type": "stream",
     "text": [
      "Epoch [86/200] Summary - Avg D Loss: 0.1559, Avg G Loss: 0.7218, Avg D Real Acc: 0.988, Avg D Fake Acc: 0.021\n",
      "\n"
     ]
    },
    {
     "name": "stderr",
     "output_type": "stream",
     "text": [
      "                                                                                                                                 \r"
     ]
    },
    {
     "name": "stdout",
     "output_type": "stream",
     "text": [
      "Epoch [87/200] Summary - Avg D Loss: 0.1530, Avg G Loss: 0.7280, Avg D Real Acc: 0.987, Avg D Fake Acc: 0.026\n",
      "\n"
     ]
    },
    {
     "name": "stderr",
     "output_type": "stream",
     "text": [
      "                                                                                                                                 \r"
     ]
    },
    {
     "name": "stdout",
     "output_type": "stream",
     "text": [
      "Epoch [88/200] Summary - Avg D Loss: 0.1533, Avg G Loss: 0.7298, Avg D Real Acc: 0.987, Avg D Fake Acc: 0.022\n",
      "\n"
     ]
    },
    {
     "name": "stderr",
     "output_type": "stream",
     "text": [
      "                                                                                                                                 \r"
     ]
    },
    {
     "name": "stdout",
     "output_type": "stream",
     "text": [
      "Epoch [89/200] Summary - Avg D Loss: 0.1503, Avg G Loss: 0.7332, Avg D Real Acc: 0.989, Avg D Fake Acc: 0.028\n",
      "\n"
     ]
    },
    {
     "name": "stderr",
     "output_type": "stream",
     "text": [
      "                                                                                                                                 \r"
     ]
    },
    {
     "name": "stdout",
     "output_type": "stream",
     "text": [
      "Epoch [90/200] Summary - Avg D Loss: 0.1499, Avg G Loss: 0.7329, Avg D Real Acc: 0.989, Avg D Fake Acc: 0.026\n",
      "\n",
      "Checkpoint saved for epoch 90.\n"
     ]
    },
    {
     "name": "stderr",
     "output_type": "stream",
     "text": [
      "                                                                                                                                 \r"
     ]
    },
    {
     "name": "stdout",
     "output_type": "stream",
     "text": [
      "Epoch [91/200] Summary - Avg D Loss: 0.1502, Avg G Loss: 0.7366, Avg D Real Acc: 0.987, Avg D Fake Acc: 0.032\n",
      "\n"
     ]
    },
    {
     "name": "stderr",
     "output_type": "stream",
     "text": [
      "                                                                                                                                 \r"
     ]
    },
    {
     "name": "stdout",
     "output_type": "stream",
     "text": [
      "Epoch [92/200] Summary - Avg D Loss: 0.1478, Avg G Loss: 0.7367, Avg D Real Acc: 0.988, Avg D Fake Acc: 0.031\n",
      "\n"
     ]
    },
    {
     "name": "stderr",
     "output_type": "stream",
     "text": [
      "                                                                                                                                 \r"
     ]
    },
    {
     "name": "stdout",
     "output_type": "stream",
     "text": [
      "Epoch [93/200] Summary - Avg D Loss: 0.1527, Avg G Loss: 0.7318, Avg D Real Acc: 0.986, Avg D Fake Acc: 0.029\n",
      "\n"
     ]
    },
    {
     "name": "stderr",
     "output_type": "stream",
     "text": [
      "                                                                                                                                 \r"
     ]
    },
    {
     "name": "stdout",
     "output_type": "stream",
     "text": [
      "Epoch [94/200] Summary - Avg D Loss: 0.1483, Avg G Loss: 0.7360, Avg D Real Acc: 0.988, Avg D Fake Acc: 0.026\n",
      "\n"
     ]
    },
    {
     "name": "stderr",
     "output_type": "stream",
     "text": [
      "                                                                                                                                 \r"
     ]
    },
    {
     "name": "stdout",
     "output_type": "stream",
     "text": [
      "Epoch [95/200] Summary - Avg D Loss: 0.1548, Avg G Loss: 0.7256, Avg D Real Acc: 0.986, Avg D Fake Acc: 0.022\n",
      "\n"
     ]
    },
    {
     "name": "stderr",
     "output_type": "stream",
     "text": [
      "                                                                                                                                 \r"
     ]
    },
    {
     "name": "stdout",
     "output_type": "stream",
     "text": [
      "Epoch [96/200] Summary - Avg D Loss: 0.1471, Avg G Loss: 0.7387, Avg D Real Acc: 0.989, Avg D Fake Acc: 0.025\n",
      "\n"
     ]
    },
    {
     "name": "stderr",
     "output_type": "stream",
     "text": [
      "                                                                                                                                 \r"
     ]
    },
    {
     "name": "stdout",
     "output_type": "stream",
     "text": [
      "Epoch [97/200] Summary - Avg D Loss: 0.1453, Avg G Loss: 0.7398, Avg D Real Acc: 0.989, Avg D Fake Acc: 0.032\n",
      "\n"
     ]
    },
    {
     "name": "stderr",
     "output_type": "stream",
     "text": [
      "                                                                                                                                 \r"
     ]
    },
    {
     "name": "stdout",
     "output_type": "stream",
     "text": [
      "Epoch [98/200] Summary - Avg D Loss: 0.1473, Avg G Loss: 0.7377, Avg D Real Acc: 0.989, Avg D Fake Acc: 0.031\n",
      "\n"
     ]
    },
    {
     "name": "stderr",
     "output_type": "stream",
     "text": [
      "                                                                                                                                 \r"
     ]
    },
    {
     "name": "stdout",
     "output_type": "stream",
     "text": [
      "Epoch [99/200] Summary - Avg D Loss: 0.1455, Avg G Loss: 0.7390, Avg D Real Acc: 0.988, Avg D Fake Acc: 0.028\n",
      "\n"
     ]
    },
    {
     "name": "stderr",
     "output_type": "stream",
     "text": [
      "                                                                                                                                  \r"
     ]
    },
    {
     "name": "stdout",
     "output_type": "stream",
     "text": [
      "Epoch [100/200] Summary - Avg D Loss: 0.1509, Avg G Loss: 0.7321, Avg D Real Acc: 0.987, Avg D Fake Acc: 0.026\n",
      "\n",
      "Checkpoint saved for epoch 100.\n"
     ]
    },
    {
     "name": "stderr",
     "output_type": "stream",
     "text": [
      "                                                                                                                                  \r"
     ]
    },
    {
     "name": "stdout",
     "output_type": "stream",
     "text": [
      "Epoch [101/200] Summary - Avg D Loss: 0.1534, Avg G Loss: 0.7327, Avg D Real Acc: 0.986, Avg D Fake Acc: 0.029\n",
      "\n"
     ]
    },
    {
     "name": "stderr",
     "output_type": "stream",
     "text": [
      "                                                                                                                                  \r"
     ]
    },
    {
     "name": "stdout",
     "output_type": "stream",
     "text": [
      "Epoch [102/200] Summary - Avg D Loss: 0.1508, Avg G Loss: 0.7309, Avg D Real Acc: 0.989, Avg D Fake Acc: 0.025\n",
      "\n"
     ]
    },
    {
     "name": "stderr",
     "output_type": "stream",
     "text": [
      "                                                                                                                                  \r"
     ]
    },
    {
     "name": "stdout",
     "output_type": "stream",
     "text": [
      "Epoch [103/200] Summary - Avg D Loss: 0.1465, Avg G Loss: 0.7386, Avg D Real Acc: 0.986, Avg D Fake Acc: 0.033\n",
      "\n"
     ]
    },
    {
     "name": "stderr",
     "output_type": "stream",
     "text": [
      "                                                                                                                                  \r"
     ]
    },
    {
     "name": "stdout",
     "output_type": "stream",
     "text": [
      "Epoch [104/200] Summary - Avg D Loss: 0.1490, Avg G Loss: 0.7407, Avg D Real Acc: 0.988, Avg D Fake Acc: 0.030\n",
      "\n"
     ]
    },
    {
     "name": "stderr",
     "output_type": "stream",
     "text": [
      "                                                                                                                                  \r"
     ]
    },
    {
     "name": "stdout",
     "output_type": "stream",
     "text": [
      "Epoch [105/200] Summary - Avg D Loss: 0.1478, Avg G Loss: 0.7379, Avg D Real Acc: 0.987, Avg D Fake Acc: 0.034\n",
      "\n"
     ]
    },
    {
     "name": "stderr",
     "output_type": "stream",
     "text": [
      "                                                                                                                                  \r"
     ]
    },
    {
     "name": "stdout",
     "output_type": "stream",
     "text": [
      "Epoch [106/200] Summary - Avg D Loss: 0.1466, Avg G Loss: 0.7398, Avg D Real Acc: 0.988, Avg D Fake Acc: 0.027\n",
      "\n"
     ]
    },
    {
     "name": "stderr",
     "output_type": "stream",
     "text": [
      "                                                                                                                                  \r"
     ]
    },
    {
     "name": "stdout",
     "output_type": "stream",
     "text": [
      "Epoch [107/200] Summary - Avg D Loss: 0.1456, Avg G Loss: 0.7428, Avg D Real Acc: 0.989, Avg D Fake Acc: 0.028\n",
      "\n"
     ]
    },
    {
     "name": "stderr",
     "output_type": "stream",
     "text": [
      "                                                                                                                                  \r"
     ]
    },
    {
     "name": "stdout",
     "output_type": "stream",
     "text": [
      "Epoch [108/200] Summary - Avg D Loss: 0.1470, Avg G Loss: 0.7447, Avg D Real Acc: 0.989, Avg D Fake Acc: 0.038\n",
      "\n"
     ]
    },
    {
     "name": "stderr",
     "output_type": "stream",
     "text": [
      "                                                                                                                                  \r"
     ]
    },
    {
     "name": "stdout",
     "output_type": "stream",
     "text": [
      "Epoch [109/200] Summary - Avg D Loss: 0.1492, Avg G Loss: 0.7345, Avg D Real Acc: 0.987, Avg D Fake Acc: 0.026\n",
      "\n"
     ]
    },
    {
     "name": "stderr",
     "output_type": "stream",
     "text": [
      "                                                                                                                                  \r"
     ]
    },
    {
     "name": "stdout",
     "output_type": "stream",
     "text": [
      "Epoch [110/200] Summary - Avg D Loss: 0.1504, Avg G Loss: 0.7353, Avg D Real Acc: 0.985, Avg D Fake Acc: 0.026\n",
      "\n",
      "Deleted old checkpoint: cgan_gtsrb_ksteps_epoch_0060.pth\n",
      "Deleted old checkpoint: cgan_gtsrb_ksteps_epoch_0070.pth\n",
      "Deleted old checkpoint: cgan_gtsrb_ksteps_epoch_0080.pth\n",
      "Deleted old checkpoint: cgan_gtsrb_ksteps_epoch_0090.pth\n",
      "Deleted old checkpoint: cgan_gtsrb_ksteps_epoch_0100.pth\n",
      "Checkpoint saved for epoch 110.\n"
     ]
    },
    {
     "name": "stderr",
     "output_type": "stream",
     "text": [
      "                                                                                                                                  \r"
     ]
    },
    {
     "name": "stdout",
     "output_type": "stream",
     "text": [
      "Epoch [111/200] Summary - Avg D Loss: 0.1445, Avg G Loss: 0.7437, Avg D Real Acc: 0.988, Avg D Fake Acc: 0.032\n",
      "\n"
     ]
    },
    {
     "name": "stderr",
     "output_type": "stream",
     "text": [
      "                                                                                                                                  \r"
     ]
    },
    {
     "name": "stdout",
     "output_type": "stream",
     "text": [
      "Epoch [112/200] Summary - Avg D Loss: 0.1449, Avg G Loss: 0.7390, Avg D Real Acc: 0.988, Avg D Fake Acc: 0.022\n",
      "\n"
     ]
    },
    {
     "name": "stderr",
     "output_type": "stream",
     "text": [
      "                                                                                                                                  \r"
     ]
    },
    {
     "name": "stdout",
     "output_type": "stream",
     "text": [
      "Epoch [113/200] Summary - Avg D Loss: 0.1430, Avg G Loss: 0.7450, Avg D Real Acc: 0.989, Avg D Fake Acc: 0.034\n",
      "\n"
     ]
    },
    {
     "name": "stderr",
     "output_type": "stream",
     "text": [
      "                                                                                                                                  \r"
     ]
    },
    {
     "name": "stdout",
     "output_type": "stream",
     "text": [
      "Epoch [114/200] Summary - Avg D Loss: 0.1445, Avg G Loss: 0.7392, Avg D Real Acc: 0.988, Avg D Fake Acc: 0.028\n",
      "\n"
     ]
    },
    {
     "name": "stderr",
     "output_type": "stream",
     "text": [
      "                                                                                                                                  \r"
     ]
    },
    {
     "name": "stdout",
     "output_type": "stream",
     "text": [
      "Epoch [115/200] Summary - Avg D Loss: 0.1448, Avg G Loss: 0.7406, Avg D Real Acc: 0.987, Avg D Fake Acc: 0.028\n",
      "\n"
     ]
    },
    {
     "name": "stderr",
     "output_type": "stream",
     "text": [
      "                                                                                                                                  \r"
     ]
    },
    {
     "name": "stdout",
     "output_type": "stream",
     "text": [
      "Epoch [116/200] Summary - Avg D Loss: 0.1466, Avg G Loss: 0.7354, Avg D Real Acc: 0.987, Avg D Fake Acc: 0.028\n",
      "\n"
     ]
    },
    {
     "name": "stderr",
     "output_type": "stream",
     "text": [
      "                                                                                                                                  \r"
     ]
    },
    {
     "name": "stdout",
     "output_type": "stream",
     "text": [
      "Epoch [117/200] Summary - Avg D Loss: 0.1475, Avg G Loss: 0.7340, Avg D Real Acc: 0.988, Avg D Fake Acc: 0.027\n",
      "\n"
     ]
    },
    {
     "name": "stderr",
     "output_type": "stream",
     "text": [
      "                                                                                                                                  \r"
     ]
    },
    {
     "name": "stdout",
     "output_type": "stream",
     "text": [
      "Epoch [118/200] Summary - Avg D Loss: 0.1407, Avg G Loss: 0.7468, Avg D Real Acc: 0.988, Avg D Fake Acc: 0.032\n",
      "\n"
     ]
    },
    {
     "name": "stderr",
     "output_type": "stream",
     "text": [
      "                                                                                                                                  \r"
     ]
    },
    {
     "name": "stdout",
     "output_type": "stream",
     "text": [
      "Epoch [119/200] Summary - Avg D Loss: 0.1396, Avg G Loss: 0.7492, Avg D Real Acc: 0.989, Avg D Fake Acc: 0.030\n",
      "\n"
     ]
    },
    {
     "name": "stderr",
     "output_type": "stream",
     "text": [
      "                                                                                                                                  \r"
     ]
    },
    {
     "name": "stdout",
     "output_type": "stream",
     "text": [
      "Epoch [120/200] Summary - Avg D Loss: 0.1407, Avg G Loss: 0.7481, Avg D Real Acc: 0.989, Avg D Fake Acc: 0.032\n",
      "\n",
      "Checkpoint saved for epoch 120.\n"
     ]
    },
    {
     "name": "stderr",
     "output_type": "stream",
     "text": [
      "                                                                                                                                  \r"
     ]
    },
    {
     "name": "stdout",
     "output_type": "stream",
     "text": [
      "Epoch [121/200] Summary - Avg D Loss: 0.1409, Avg G Loss: 0.7448, Avg D Real Acc: 0.989, Avg D Fake Acc: 0.034\n",
      "\n"
     ]
    },
    {
     "name": "stderr",
     "output_type": "stream",
     "text": [
      "                                                                                                                                  \r"
     ]
    },
    {
     "name": "stdout",
     "output_type": "stream",
     "text": [
      "Epoch [122/200] Summary - Avg D Loss: 0.1401, Avg G Loss: 0.7477, Avg D Real Acc: 0.988, Avg D Fake Acc: 0.033\n",
      "\n"
     ]
    },
    {
     "name": "stderr",
     "output_type": "stream",
     "text": [
      "                                                                                                                                  \r"
     ]
    },
    {
     "name": "stdout",
     "output_type": "stream",
     "text": [
      "Epoch [123/200] Summary - Avg D Loss: 0.1419, Avg G Loss: 0.7479, Avg D Real Acc: 0.988, Avg D Fake Acc: 0.038\n",
      "\n"
     ]
    },
    {
     "name": "stderr",
     "output_type": "stream",
     "text": [
      "                                                                                                                                  \r"
     ]
    },
    {
     "name": "stdout",
     "output_type": "stream",
     "text": [
      "Epoch [124/200] Summary - Avg D Loss: 0.1367, Avg G Loss: 0.7553, Avg D Real Acc: 0.989, Avg D Fake Acc: 0.045\n",
      "\n"
     ]
    },
    {
     "name": "stderr",
     "output_type": "stream",
     "text": [
      "                                                                                                                                  \r"
     ]
    },
    {
     "name": "stdout",
     "output_type": "stream",
     "text": [
      "Epoch [125/200] Summary - Avg D Loss: 0.1399, Avg G Loss: 0.7480, Avg D Real Acc: 0.988, Avg D Fake Acc: 0.037\n",
      "\n"
     ]
    },
    {
     "name": "stderr",
     "output_type": "stream",
     "text": [
      "                                                                                                                                  \r"
     ]
    },
    {
     "name": "stdout",
     "output_type": "stream",
     "text": [
      "Epoch [126/200] Summary - Avg D Loss: 0.1420, Avg G Loss: 0.7442, Avg D Real Acc: 0.989, Avg D Fake Acc: 0.034\n",
      "\n"
     ]
    },
    {
     "name": "stderr",
     "output_type": "stream",
     "text": [
      "                                                                                                                                  \r"
     ]
    },
    {
     "name": "stdout",
     "output_type": "stream",
     "text": [
      "Epoch [127/200] Summary - Avg D Loss: 0.1419, Avg G Loss: 0.7457, Avg D Real Acc: 0.989, Avg D Fake Acc: 0.036\n",
      "\n"
     ]
    },
    {
     "name": "stderr",
     "output_type": "stream",
     "text": [
      "                                                                                                                                  \r"
     ]
    },
    {
     "name": "stdout",
     "output_type": "stream",
     "text": [
      "Epoch [128/200] Summary - Avg D Loss: 0.1440, Avg G Loss: 0.7476, Avg D Real Acc: 0.986, Avg D Fake Acc: 0.034\n",
      "\n"
     ]
    },
    {
     "name": "stderr",
     "output_type": "stream",
     "text": [
      "                                                                                                                                  \r"
     ]
    },
    {
     "name": "stdout",
     "output_type": "stream",
     "text": [
      "Epoch [129/200] Summary - Avg D Loss: 0.1430, Avg G Loss: 0.7459, Avg D Real Acc: 0.988, Avg D Fake Acc: 0.029\n",
      "\n"
     ]
    },
    {
     "name": "stderr",
     "output_type": "stream",
     "text": [
      "                                                                                                                                  \r"
     ]
    },
    {
     "name": "stdout",
     "output_type": "stream",
     "text": [
      "Epoch [130/200] Summary - Avg D Loss: 0.1386, Avg G Loss: 0.7490, Avg D Real Acc: 0.988, Avg D Fake Acc: 0.032\n",
      "\n",
      "Checkpoint saved for epoch 130.\n"
     ]
    },
    {
     "name": "stderr",
     "output_type": "stream",
     "text": [
      "                                                                                                                                  \r"
     ]
    },
    {
     "name": "stdout",
     "output_type": "stream",
     "text": [
      "Epoch [131/200] Summary - Avg D Loss: 0.1418, Avg G Loss: 0.7466, Avg D Real Acc: 0.987, Avg D Fake Acc: 0.030\n",
      "\n"
     ]
    },
    {
     "name": "stderr",
     "output_type": "stream",
     "text": [
      "                                                                                                                                  \r"
     ]
    },
    {
     "name": "stdout",
     "output_type": "stream",
     "text": [
      "Epoch [132/200] Summary - Avg D Loss: 0.1456, Avg G Loss: 0.7463, Avg D Real Acc: 0.988, Avg D Fake Acc: 0.035\n",
      "\n"
     ]
    },
    {
     "name": "stderr",
     "output_type": "stream",
     "text": [
      "                                                                                                                                  \r"
     ]
    },
    {
     "name": "stdout",
     "output_type": "stream",
     "text": [
      "Epoch [133/200] Summary - Avg D Loss: 0.1436, Avg G Loss: 0.7412, Avg D Real Acc: 0.989, Avg D Fake Acc: 0.031\n",
      "\n"
     ]
    },
    {
     "name": "stderr",
     "output_type": "stream",
     "text": [
      "                                                                                                                                  \r"
     ]
    },
    {
     "name": "stdout",
     "output_type": "stream",
     "text": [
      "Epoch [134/200] Summary - Avg D Loss: 0.1429, Avg G Loss: 0.7460, Avg D Real Acc: 0.988, Avg D Fake Acc: 0.034\n",
      "\n"
     ]
    },
    {
     "name": "stderr",
     "output_type": "stream",
     "text": [
      "                                                                                                                                  \r"
     ]
    },
    {
     "name": "stdout",
     "output_type": "stream",
     "text": [
      "Epoch [135/200] Summary - Avg D Loss: 0.1403, Avg G Loss: 0.7497, Avg D Real Acc: 0.989, Avg D Fake Acc: 0.029\n",
      "\n"
     ]
    },
    {
     "name": "stderr",
     "output_type": "stream",
     "text": [
      "                                                                                                                                  \r"
     ]
    },
    {
     "name": "stdout",
     "output_type": "stream",
     "text": [
      "Epoch [136/200] Summary - Avg D Loss: 0.1404, Avg G Loss: 0.7510, Avg D Real Acc: 0.988, Avg D Fake Acc: 0.040\n",
      "\n"
     ]
    },
    {
     "name": "stderr",
     "output_type": "stream",
     "text": [
      "                                                                                                                                  \r"
     ]
    },
    {
     "name": "stdout",
     "output_type": "stream",
     "text": [
      "Epoch [137/200] Summary - Avg D Loss: 0.1394, Avg G Loss: 0.7514, Avg D Real Acc: 0.989, Avg D Fake Acc: 0.040\n",
      "\n"
     ]
    },
    {
     "name": "stderr",
     "output_type": "stream",
     "text": [
      "                                                                                                                                  \r"
     ]
    },
    {
     "name": "stdout",
     "output_type": "stream",
     "text": [
      "Epoch [138/200] Summary - Avg D Loss: 0.1397, Avg G Loss: 0.7447, Avg D Real Acc: 0.988, Avg D Fake Acc: 0.036\n",
      "\n"
     ]
    },
    {
     "name": "stderr",
     "output_type": "stream",
     "text": [
      "                                                                                                                                  \r"
     ]
    },
    {
     "name": "stdout",
     "output_type": "stream",
     "text": [
      "Epoch [139/200] Summary - Avg D Loss: 0.1389, Avg G Loss: 0.7495, Avg D Real Acc: 0.990, Avg D Fake Acc: 0.033\n",
      "\n"
     ]
    },
    {
     "name": "stderr",
     "output_type": "stream",
     "text": [
      "                                                                                                                                  \r"
     ]
    },
    {
     "name": "stdout",
     "output_type": "stream",
     "text": [
      "Epoch [140/200] Summary - Avg D Loss: 0.1364, Avg G Loss: 0.7513, Avg D Real Acc: 0.989, Avg D Fake Acc: 0.036\n",
      "\n",
      "Checkpoint saved for epoch 140.\n"
     ]
    },
    {
     "name": "stderr",
     "output_type": "stream",
     "text": [
      "                                                                                                                                  \r"
     ]
    },
    {
     "name": "stdout",
     "output_type": "stream",
     "text": [
      "Epoch [141/200] Summary - Avg D Loss: 0.1370, Avg G Loss: 0.7539, Avg D Real Acc: 0.988, Avg D Fake Acc: 0.037\n",
      "\n"
     ]
    },
    {
     "name": "stderr",
     "output_type": "stream",
     "text": [
      "                                                                                                                                  \r"
     ]
    },
    {
     "name": "stdout",
     "output_type": "stream",
     "text": [
      "Epoch [142/200] Summary - Avg D Loss: 0.1363, Avg G Loss: 0.7509, Avg D Real Acc: 0.989, Avg D Fake Acc: 0.036\n",
      "\n"
     ]
    },
    {
     "name": "stderr",
     "output_type": "stream",
     "text": [
      "                                                                                                                                  \r"
     ]
    },
    {
     "name": "stdout",
     "output_type": "stream",
     "text": [
      "Epoch [143/200] Summary - Avg D Loss: 0.1375, Avg G Loss: 0.7554, Avg D Real Acc: 0.988, Avg D Fake Acc: 0.034\n",
      "\n"
     ]
    },
    {
     "name": "stderr",
     "output_type": "stream",
     "text": [
      "                                                                                                                                  \r"
     ]
    },
    {
     "name": "stdout",
     "output_type": "stream",
     "text": [
      "Epoch [144/200] Summary - Avg D Loss: 0.1352, Avg G Loss: 0.7548, Avg D Real Acc: 0.988, Avg D Fake Acc: 0.037\n",
      "\n"
     ]
    },
    {
     "name": "stderr",
     "output_type": "stream",
     "text": [
      "                                                                                                                                  \r"
     ]
    },
    {
     "name": "stdout",
     "output_type": "stream",
     "text": [
      "Epoch [145/200] Summary - Avg D Loss: 0.1375, Avg G Loss: 0.7557, Avg D Real Acc: 0.988, Avg D Fake Acc: 0.038\n",
      "\n"
     ]
    },
    {
     "name": "stderr",
     "output_type": "stream",
     "text": [
      "                                                                                                                                  \r"
     ]
    },
    {
     "name": "stdout",
     "output_type": "stream",
     "text": [
      "Epoch [146/200] Summary - Avg D Loss: 0.1352, Avg G Loss: 0.7534, Avg D Real Acc: 0.991, Avg D Fake Acc: 0.043\n",
      "\n"
     ]
    },
    {
     "name": "stderr",
     "output_type": "stream",
     "text": [
      "                                                                                                                                  \r"
     ]
    },
    {
     "name": "stdout",
     "output_type": "stream",
     "text": [
      "Epoch [147/200] Summary - Avg D Loss: 0.1383, Avg G Loss: 0.7466, Avg D Real Acc: 0.989, Avg D Fake Acc: 0.040\n",
      "\n"
     ]
    },
    {
     "name": "stderr",
     "output_type": "stream",
     "text": [
      "                                                                                                                                  \r"
     ]
    },
    {
     "name": "stdout",
     "output_type": "stream",
     "text": [
      "Epoch [148/200] Summary - Avg D Loss: 0.1398, Avg G Loss: 0.7475, Avg D Real Acc: 0.989, Avg D Fake Acc: 0.022\n",
      "\n"
     ]
    },
    {
     "name": "stderr",
     "output_type": "stream",
     "text": [
      "                                                                                                                                  \r"
     ]
    },
    {
     "name": "stdout",
     "output_type": "stream",
     "text": [
      "Epoch [149/200] Summary - Avg D Loss: 0.1410, Avg G Loss: 0.7451, Avg D Real Acc: 0.987, Avg D Fake Acc: 0.030\n",
      "\n"
     ]
    },
    {
     "name": "stderr",
     "output_type": "stream",
     "text": [
      "                                                                                                                                  \r"
     ]
    },
    {
     "name": "stdout",
     "output_type": "stream",
     "text": [
      "Epoch [150/200] Summary - Avg D Loss: 0.1371, Avg G Loss: 0.7508, Avg D Real Acc: 0.989, Avg D Fake Acc: 0.031\n",
      "\n",
      "Checkpoint saved for epoch 150.\n"
     ]
    },
    {
     "name": "stderr",
     "output_type": "stream",
     "text": [
      "                                                                                                                                  \r"
     ]
    },
    {
     "name": "stdout",
     "output_type": "stream",
     "text": [
      "Epoch [151/200] Summary - Avg D Loss: 0.1405, Avg G Loss: 0.7503, Avg D Real Acc: 0.987, Avg D Fake Acc: 0.037\n",
      "\n"
     ]
    },
    {
     "name": "stderr",
     "output_type": "stream",
     "text": [
      "                                                                                                                                  \r"
     ]
    },
    {
     "name": "stdout",
     "output_type": "stream",
     "text": [
      "Epoch [152/200] Summary - Avg D Loss: 0.1382, Avg G Loss: 0.7527, Avg D Real Acc: 0.988, Avg D Fake Acc: 0.032\n",
      "\n"
     ]
    },
    {
     "name": "stderr",
     "output_type": "stream",
     "text": [
      "                                                                                                                                  \r"
     ]
    },
    {
     "name": "stdout",
     "output_type": "stream",
     "text": [
      "Epoch [153/200] Summary - Avg D Loss: 0.1350, Avg G Loss: 0.7580, Avg D Real Acc: 0.987, Avg D Fake Acc: 0.034\n",
      "\n"
     ]
    },
    {
     "name": "stderr",
     "output_type": "stream",
     "text": [
      "                                                                                                                                  \r"
     ]
    },
    {
     "name": "stdout",
     "output_type": "stream",
     "text": [
      "Epoch [154/200] Summary - Avg D Loss: 0.1359, Avg G Loss: 0.7584, Avg D Real Acc: 0.988, Avg D Fake Acc: 0.039\n",
      "\n"
     ]
    },
    {
     "name": "stderr",
     "output_type": "stream",
     "text": [
      "                                                                                                                                  \r"
     ]
    },
    {
     "name": "stdout",
     "output_type": "stream",
     "text": [
      "Epoch [155/200] Summary - Avg D Loss: 0.1341, Avg G Loss: 0.7604, Avg D Real Acc: 0.989, Avg D Fake Acc: 0.046\n",
      "\n"
     ]
    },
    {
     "name": "stderr",
     "output_type": "stream",
     "text": [
      "                                                                                                                                  \r"
     ]
    },
    {
     "name": "stdout",
     "output_type": "stream",
     "text": [
      "Epoch [156/200] Summary - Avg D Loss: 0.1358, Avg G Loss: 0.7482, Avg D Real Acc: 0.989, Avg D Fake Acc: 0.032\n",
      "\n"
     ]
    },
    {
     "name": "stderr",
     "output_type": "stream",
     "text": [
      "                                                                                                                                  \r"
     ]
    },
    {
     "name": "stdout",
     "output_type": "stream",
     "text": [
      "Epoch [157/200] Summary - Avg D Loss: 0.1360, Avg G Loss: 0.7524, Avg D Real Acc: 0.990, Avg D Fake Acc: 0.031\n",
      "\n"
     ]
    },
    {
     "name": "stderr",
     "output_type": "stream",
     "text": [
      "                                                                                                                                  \r"
     ]
    },
    {
     "name": "stdout",
     "output_type": "stream",
     "text": [
      "Epoch [158/200] Summary - Avg D Loss: 0.1311, Avg G Loss: 0.7598, Avg D Real Acc: 0.991, Avg D Fake Acc: 0.039\n",
      "\n"
     ]
    },
    {
     "name": "stderr",
     "output_type": "stream",
     "text": [
      "                                                                                                                                  \r"
     ]
    },
    {
     "name": "stdout",
     "output_type": "stream",
     "text": [
      "Epoch [159/200] Summary - Avg D Loss: 0.1362, Avg G Loss: 0.7538, Avg D Real Acc: 0.989, Avg D Fake Acc: 0.038\n",
      "\n"
     ]
    },
    {
     "name": "stderr",
     "output_type": "stream",
     "text": [
      "                                                                                                                                  \r"
     ]
    },
    {
     "name": "stdout",
     "output_type": "stream",
     "text": [
      "Epoch [160/200] Summary - Avg D Loss: 0.1340, Avg G Loss: 0.7562, Avg D Real Acc: 0.989, Avg D Fake Acc: 0.033\n",
      "\n",
      "Deleted old checkpoint: cgan_gtsrb_ksteps_epoch_0110.pth\n",
      "Deleted old checkpoint: cgan_gtsrb_ksteps_epoch_0120.pth\n",
      "Deleted old checkpoint: cgan_gtsrb_ksteps_epoch_0130.pth\n",
      "Deleted old checkpoint: cgan_gtsrb_ksteps_epoch_0140.pth\n",
      "Deleted old checkpoint: cgan_gtsrb_ksteps_epoch_0150.pth\n",
      "Checkpoint saved for epoch 160.\n"
     ]
    },
    {
     "name": "stderr",
     "output_type": "stream",
     "text": [
      "                                                                                                                                  \r"
     ]
    },
    {
     "name": "stdout",
     "output_type": "stream",
     "text": [
      "Epoch [161/200] Summary - Avg D Loss: 0.1326, Avg G Loss: 0.7599, Avg D Real Acc: 0.989, Avg D Fake Acc: 0.043\n",
      "\n"
     ]
    },
    {
     "name": "stderr",
     "output_type": "stream",
     "text": [
      "                                                                                                                                  \r"
     ]
    },
    {
     "name": "stdout",
     "output_type": "stream",
     "text": [
      "Epoch [162/200] Summary - Avg D Loss: 0.1344, Avg G Loss: 0.7542, Avg D Real Acc: 0.990, Avg D Fake Acc: 0.039\n",
      "\n"
     ]
    },
    {
     "name": "stderr",
     "output_type": "stream",
     "text": [
      "                                                                                                                                  \r"
     ]
    },
    {
     "name": "stdout",
     "output_type": "stream",
     "text": [
      "Epoch [163/200] Summary - Avg D Loss: 0.1308, Avg G Loss: 0.7639, Avg D Real Acc: 0.988, Avg D Fake Acc: 0.035\n",
      "\n"
     ]
    },
    {
     "name": "stderr",
     "output_type": "stream",
     "text": [
      "                                                                                                                                  \r"
     ]
    },
    {
     "name": "stdout",
     "output_type": "stream",
     "text": [
      "Epoch [164/200] Summary - Avg D Loss: 0.1330, Avg G Loss: 0.7618, Avg D Real Acc: 0.988, Avg D Fake Acc: 0.036\n",
      "\n"
     ]
    },
    {
     "name": "stderr",
     "output_type": "stream",
     "text": [
      "                                                                                                                                  \r"
     ]
    },
    {
     "name": "stdout",
     "output_type": "stream",
     "text": [
      "Epoch [165/200] Summary - Avg D Loss: 0.1292, Avg G Loss: 0.7673, Avg D Real Acc: 0.989, Avg D Fake Acc: 0.038\n",
      "\n"
     ]
    },
    {
     "name": "stderr",
     "output_type": "stream",
     "text": [
      "                                                                                                                                  \r"
     ]
    },
    {
     "name": "stdout",
     "output_type": "stream",
     "text": [
      "Epoch [166/200] Summary - Avg D Loss: 0.1278, Avg G Loss: 0.7664, Avg D Real Acc: 0.991, Avg D Fake Acc: 0.054\n",
      "\n"
     ]
    },
    {
     "name": "stderr",
     "output_type": "stream",
     "text": [
      "                                                                                                                                  \r"
     ]
    },
    {
     "name": "stdout",
     "output_type": "stream",
     "text": [
      "Epoch [167/200] Summary - Avg D Loss: 0.1374, Avg G Loss: 0.7520, Avg D Real Acc: 0.988, Avg D Fake Acc: 0.035\n",
      "\n"
     ]
    },
    {
     "name": "stderr",
     "output_type": "stream",
     "text": [
      "                                                                                                                                  \r"
     ]
    },
    {
     "name": "stdout",
     "output_type": "stream",
     "text": [
      "Epoch [168/200] Summary - Avg D Loss: 0.1346, Avg G Loss: 0.7528, Avg D Real Acc: 0.988, Avg D Fake Acc: 0.035\n",
      "\n"
     ]
    },
    {
     "name": "stderr",
     "output_type": "stream",
     "text": [
      "                                                                                                                                  \r"
     ]
    },
    {
     "name": "stdout",
     "output_type": "stream",
     "text": [
      "Epoch [169/200] Summary - Avg D Loss: 0.1334, Avg G Loss: 0.7619, Avg D Real Acc: 0.989, Avg D Fake Acc: 0.038\n",
      "\n"
     ]
    },
    {
     "name": "stderr",
     "output_type": "stream",
     "text": [
      "                                                                                                                                  \r"
     ]
    },
    {
     "name": "stdout",
     "output_type": "stream",
     "text": [
      "Epoch [170/200] Summary - Avg D Loss: 0.1318, Avg G Loss: 0.7599, Avg D Real Acc: 0.990, Avg D Fake Acc: 0.043\n",
      "\n",
      "Checkpoint saved for epoch 170.\n"
     ]
    },
    {
     "name": "stderr",
     "output_type": "stream",
     "text": [
      "                                                                                                                                  \r"
     ]
    },
    {
     "name": "stdout",
     "output_type": "stream",
     "text": [
      "Epoch [171/200] Summary - Avg D Loss: 0.1292, Avg G Loss: 0.7656, Avg D Real Acc: 0.988, Avg D Fake Acc: 0.052\n",
      "\n"
     ]
    },
    {
     "name": "stderr",
     "output_type": "stream",
     "text": [
      "                                                                                                                                  \r"
     ]
    },
    {
     "name": "stdout",
     "output_type": "stream",
     "text": [
      "Epoch [172/200] Summary - Avg D Loss: 0.1317, Avg G Loss: 0.7608, Avg D Real Acc: 0.989, Avg D Fake Acc: 0.036\n",
      "\n"
     ]
    },
    {
     "name": "stderr",
     "output_type": "stream",
     "text": [
      "                                                                                                                                  \r"
     ]
    },
    {
     "name": "stdout",
     "output_type": "stream",
     "text": [
      "Epoch [173/200] Summary - Avg D Loss: 0.1334, Avg G Loss: 0.7573, Avg D Real Acc: 0.989, Avg D Fake Acc: 0.043\n",
      "\n"
     ]
    },
    {
     "name": "stderr",
     "output_type": "stream",
     "text": [
      "                                                                                                                                  \r"
     ]
    },
    {
     "name": "stdout",
     "output_type": "stream",
     "text": [
      "Epoch [174/200] Summary - Avg D Loss: 0.1297, Avg G Loss: 0.7660, Avg D Real Acc: 0.989, Avg D Fake Acc: 0.049\n",
      "\n"
     ]
    },
    {
     "name": "stderr",
     "output_type": "stream",
     "text": [
      "                                                                                                                                  \r"
     ]
    },
    {
     "name": "stdout",
     "output_type": "stream",
     "text": [
      "Epoch [175/200] Summary - Avg D Loss: 0.1278, Avg G Loss: 0.7645, Avg D Real Acc: 0.989, Avg D Fake Acc: 0.041\n",
      "\n"
     ]
    },
    {
     "name": "stderr",
     "output_type": "stream",
     "text": [
      "                                                                                                                                  \r"
     ]
    },
    {
     "name": "stdout",
     "output_type": "stream",
     "text": [
      "Epoch [176/200] Summary - Avg D Loss: 0.1260, Avg G Loss: 0.7685, Avg D Real Acc: 0.990, Avg D Fake Acc: 0.043\n",
      "\n"
     ]
    },
    {
     "name": "stderr",
     "output_type": "stream",
     "text": [
      "                                                                                                                                  \r"
     ]
    },
    {
     "name": "stdout",
     "output_type": "stream",
     "text": [
      "Epoch [177/200] Summary - Avg D Loss: 0.1234, Avg G Loss: 0.7721, Avg D Real Acc: 0.990, Avg D Fake Acc: 0.048\n",
      "\n"
     ]
    },
    {
     "name": "stderr",
     "output_type": "stream",
     "text": [
      "                                                                                                                                  \r"
     ]
    },
    {
     "name": "stdout",
     "output_type": "stream",
     "text": [
      "Epoch [178/200] Summary - Avg D Loss: 0.1279, Avg G Loss: 0.7694, Avg D Real Acc: 0.990, Avg D Fake Acc: 0.043\n",
      "\n"
     ]
    },
    {
     "name": "stderr",
     "output_type": "stream",
     "text": [
      "                                                                                                                                  \r"
     ]
    },
    {
     "name": "stdout",
     "output_type": "stream",
     "text": [
      "Epoch [179/200] Summary - Avg D Loss: 0.1298, Avg G Loss: 0.7645, Avg D Real Acc: 0.990, Avg D Fake Acc: 0.044\n",
      "\n"
     ]
    },
    {
     "name": "stderr",
     "output_type": "stream",
     "text": [
      "                                                                                                                                  \r"
     ]
    },
    {
     "name": "stdout",
     "output_type": "stream",
     "text": [
      "Epoch [180/200] Summary - Avg D Loss: 0.1246, Avg G Loss: 0.7727, Avg D Real Acc: 0.990, Avg D Fake Acc: 0.055\n",
      "\n",
      "Checkpoint saved for epoch 180.\n"
     ]
    },
    {
     "name": "stderr",
     "output_type": "stream",
     "text": [
      "                                                                                                                                  \r"
     ]
    },
    {
     "name": "stdout",
     "output_type": "stream",
     "text": [
      "Epoch [181/200] Summary - Avg D Loss: 0.1323, Avg G Loss: 0.7627, Avg D Real Acc: 0.987, Avg D Fake Acc: 0.043\n",
      "\n"
     ]
    },
    {
     "name": "stderr",
     "output_type": "stream",
     "text": [
      "                                                                                                                                  \r"
     ]
    },
    {
     "name": "stdout",
     "output_type": "stream",
     "text": [
      "Epoch [182/200] Summary - Avg D Loss: 0.1267, Avg G Loss: 0.7683, Avg D Real Acc: 0.990, Avg D Fake Acc: 0.044\n",
      "\n"
     ]
    },
    {
     "name": "stderr",
     "output_type": "stream",
     "text": [
      "                                                                                                                                  \r"
     ]
    },
    {
     "name": "stdout",
     "output_type": "stream",
     "text": [
      "Epoch [183/200] Summary - Avg D Loss: 0.1308, Avg G Loss: 0.7595, Avg D Real Acc: 0.989, Avg D Fake Acc: 0.051\n",
      "\n"
     ]
    },
    {
     "name": "stderr",
     "output_type": "stream",
     "text": [
      "                                                                                                                                  \r"
     ]
    },
    {
     "name": "stdout",
     "output_type": "stream",
     "text": [
      "Epoch [184/200] Summary - Avg D Loss: 0.1285, Avg G Loss: 0.7652, Avg D Real Acc: 0.989, Avg D Fake Acc: 0.036\n",
      "\n"
     ]
    },
    {
     "name": "stderr",
     "output_type": "stream",
     "text": [
      "                                                                                                                                  \r"
     ]
    },
    {
     "name": "stdout",
     "output_type": "stream",
     "text": [
      "Epoch [185/200] Summary - Avg D Loss: 0.1261, Avg G Loss: 0.7699, Avg D Real Acc: 0.991, Avg D Fake Acc: 0.038\n",
      "\n"
     ]
    },
    {
     "name": "stderr",
     "output_type": "stream",
     "text": [
      "                                                                                                                                  \r"
     ]
    },
    {
     "name": "stdout",
     "output_type": "stream",
     "text": [
      "Epoch [186/200] Summary - Avg D Loss: 0.1272, Avg G Loss: 0.7687, Avg D Real Acc: 0.989, Avg D Fake Acc: 0.040\n",
      "\n"
     ]
    },
    {
     "name": "stderr",
     "output_type": "stream",
     "text": [
      "                                                                                                                                  \r"
     ]
    },
    {
     "name": "stdout",
     "output_type": "stream",
     "text": [
      "Epoch [187/200] Summary - Avg D Loss: 0.1283, Avg G Loss: 0.7669, Avg D Real Acc: 0.989, Avg D Fake Acc: 0.040\n",
      "\n"
     ]
    },
    {
     "name": "stderr",
     "output_type": "stream",
     "text": [
      "                                                                                                                                  \r"
     ]
    },
    {
     "name": "stdout",
     "output_type": "stream",
     "text": [
      "Epoch [188/200] Summary - Avg D Loss: 0.1252, Avg G Loss: 0.7698, Avg D Real Acc: 0.989, Avg D Fake Acc: 0.047\n",
      "\n"
     ]
    },
    {
     "name": "stderr",
     "output_type": "stream",
     "text": [
      "                                                                                                                                  \r"
     ]
    },
    {
     "name": "stdout",
     "output_type": "stream",
     "text": [
      "Epoch [189/200] Summary - Avg D Loss: 0.1288, Avg G Loss: 0.7665, Avg D Real Acc: 0.989, Avg D Fake Acc: 0.047\n",
      "\n"
     ]
    },
    {
     "name": "stderr",
     "output_type": "stream",
     "text": [
      "                                                                                                                                  \r"
     ]
    },
    {
     "name": "stdout",
     "output_type": "stream",
     "text": [
      "Epoch [190/200] Summary - Avg D Loss: 0.1279, Avg G Loss: 0.7684, Avg D Real Acc: 0.989, Avg D Fake Acc: 0.047\n",
      "\n",
      "Checkpoint saved for epoch 190.\n"
     ]
    },
    {
     "name": "stderr",
     "output_type": "stream",
     "text": [
      "                                                                                                                                  \r"
     ]
    },
    {
     "name": "stdout",
     "output_type": "stream",
     "text": [
      "Epoch [191/200] Summary - Avg D Loss: 0.1313, Avg G Loss: 0.7610, Avg D Real Acc: 0.989, Avg D Fake Acc: 0.038\n",
      "\n"
     ]
    },
    {
     "name": "stderr",
     "output_type": "stream",
     "text": [
      "                                                                                                                                  \r"
     ]
    },
    {
     "name": "stdout",
     "output_type": "stream",
     "text": [
      "Epoch [192/200] Summary - Avg D Loss: 0.1266, Avg G Loss: 0.7679, Avg D Real Acc: 0.989, Avg D Fake Acc: 0.041\n",
      "\n"
     ]
    },
    {
     "name": "stderr",
     "output_type": "stream",
     "text": [
      "                                                                                                                                  \r"
     ]
    },
    {
     "name": "stdout",
     "output_type": "stream",
     "text": [
      "Epoch [193/200] Summary - Avg D Loss: 0.1260, Avg G Loss: 0.7708, Avg D Real Acc: 0.989, Avg D Fake Acc: 0.043\n",
      "\n"
     ]
    },
    {
     "name": "stderr",
     "output_type": "stream",
     "text": [
      "                                                                                                                                  \r"
     ]
    },
    {
     "name": "stdout",
     "output_type": "stream",
     "text": [
      "Epoch [194/200] Summary - Avg D Loss: 0.1258, Avg G Loss: 0.7724, Avg D Real Acc: 0.991, Avg D Fake Acc: 0.051\n",
      "\n"
     ]
    },
    {
     "name": "stderr",
     "output_type": "stream",
     "text": [
      "                                                                                                                                  \r"
     ]
    },
    {
     "name": "stdout",
     "output_type": "stream",
     "text": [
      "Epoch [195/200] Summary - Avg D Loss: 0.1271, Avg G Loss: 0.7632, Avg D Real Acc: 0.990, Avg D Fake Acc: 0.050\n",
      "\n"
     ]
    },
    {
     "name": "stderr",
     "output_type": "stream",
     "text": [
      "                                                                                                                                  \r"
     ]
    },
    {
     "name": "stdout",
     "output_type": "stream",
     "text": [
      "Epoch [196/200] Summary - Avg D Loss: 0.1247, Avg G Loss: 0.7724, Avg D Real Acc: 0.989, Avg D Fake Acc: 0.055\n",
      "\n"
     ]
    },
    {
     "name": "stderr",
     "output_type": "stream",
     "text": [
      "                                                                                                                                  \r"
     ]
    },
    {
     "name": "stdout",
     "output_type": "stream",
     "text": [
      "Epoch [197/200] Summary - Avg D Loss: 0.1249, Avg G Loss: 0.7735, Avg D Real Acc: 0.989, Avg D Fake Acc: 0.043\n",
      "\n"
     ]
    },
    {
     "name": "stderr",
     "output_type": "stream",
     "text": [
      "                                                                                                                                  \r"
     ]
    },
    {
     "name": "stdout",
     "output_type": "stream",
     "text": [
      "Epoch [198/200] Summary - Avg D Loss: 0.1255, Avg G Loss: 0.7711, Avg D Real Acc: 0.989, Avg D Fake Acc: 0.053\n",
      "\n"
     ]
    },
    {
     "name": "stderr",
     "output_type": "stream",
     "text": [
      "                                                                                                                                  \r"
     ]
    },
    {
     "name": "stdout",
     "output_type": "stream",
     "text": [
      "Epoch [199/200] Summary - Avg D Loss: 0.1282, Avg G Loss: 0.7669, Avg D Real Acc: 0.988, Avg D Fake Acc: 0.048\n",
      "\n"
     ]
    },
    {
     "name": "stderr",
     "output_type": "stream",
     "text": [
      "                                                                                                                                  \r"
     ]
    },
    {
     "name": "stdout",
     "output_type": "stream",
     "text": [
      "Epoch [200/200] Summary - Avg D Loss: 0.1278, Avg G Loss: 0.7644, Avg D Real Acc: 0.990, Avg D Fake Acc: 0.041\n",
      "\n",
      "Checkpoint saved for epoch 200.\n",
      "Training complete!\n"
     ]
    }
   ],
   "source": [
    "d_loss_history = []\n",
    "g_loss_history = []\n",
    "\n",
    "d_real_acc_history = []\n",
    "d_fake_acc_history = []\n",
    "\n",
    "print(f\"Starting training with k_steps_D={k_steps_D}, k_steps_G={k_steps_G}...\")\n",
    "\n",
    "for epoch in range(num_epochs):\n",
    "    G.train()\n",
    "    D.train()\n",
    "\n",
    "    # Metrics accumulated over the epoch\n",
    "    epoch_d_loss = 0.0\n",
    "    epoch_g_loss = 0.0\n",
    "    epoch_d_real_acc = 0.0 # Tracks accuracy on real images from the last D step in each batch cycle\n",
    "    epoch_d_fake_acc = 0.0 # Tracks accuracy on fake images from the last D step in each batch cycle\n",
    "    num_d_updates = 0\n",
    "    num_g_updates = 0\n",
    "\n",
    "    # Use tqdm for progress bar\n",
    "    progress_bar = tqdm(enumerate(data_loader), total=len(data_loader), desc=f\"Epoch {epoch+1}/{num_epochs}\", leave=False)\n",
    "\n",
    "    for i, (real_images, real_labels) in progress_bar:\n",
    "\n",
    "        real_images = real_images.to(device)\n",
    "        real_labels = real_labels.to(device)\n",
    "        current_batch_size = real_images.size(0)\n",
    "\n",
    "        # Create targets for loss calculation\n",
    "        # Note: D uses smoothed real targets, G uses non-smoothed targets typically\n",
    "        real_target_smoothed = torch.full((current_batch_size, 1), (1.0 - label_smoothing), device=device)\n",
    "        real_target_unsmoothed = torch.ones(current_batch_size, 1, device=device) # For G loss\n",
    "        fake_target = torch.zeros(current_batch_size, 1, device=device)\n",
    "\n",
    "        # --- Store metrics for the current batch cycle ---\n",
    "        current_d_loss = 0.0\n",
    "        current_g_loss = 0.0\n",
    "        current_d_real_acc = 0.0\n",
    "        current_d_fake_acc = 0.0\n",
    "\n",
    "        # ---------------------------------\n",
    "        # Train Discriminator k_steps_D times\n",
    "        # ---------------------------------\n",
    "        for _ in range(k_steps_D):\n",
    "            optimizer_D.zero_grad()\n",
    "\n",
    "            # --- Loss on Real Images ---\n",
    "            d_real_output = D(real_images, real_labels)\n",
    "            if d_real_output.shape != real_target_smoothed.shape:\n",
    "                 raise ValueError(f\"Shape mismatch D real: D output {d_real_output.shape}, target {real_target_smoothed.shape}\")\n",
    "            d_real_loss = criterion(d_real_output, real_target_smoothed)\n",
    "\n",
    "            # --- Loss on Fake Images ---\n",
    "            z = torch.randn(current_batch_size, noise_dim, device=device)\n",
    "            # Sample fake labels respecting class distribution\n",
    "            fake_labels_dist = torch.multinomial(class_weights, current_batch_size, replacement=True)\n",
    "\n",
    "            # Generate fake images - detach G's graph\n",
    "            with torch.no_grad():\n",
    "                fake_images = G(z, fake_labels_dist).detach()\n",
    "\n",
    "            d_fake_output = D(fake_images, fake_labels_dist)\n",
    "            if d_fake_output.shape != fake_target.shape:\n",
    "                 raise ValueError(f\"Shape mismatch D fake: D output {d_fake_output.shape}, target {fake_target.shape}\")\n",
    "            d_fake_loss = criterion(d_fake_output, fake_target)\n",
    "\n",
    "            # --- Total D Loss and Update ---\n",
    "            d_loss = d_real_loss + d_fake_loss\n",
    "            d_loss.backward()\n",
    "            optimizer_D.step()\n",
    "\n",
    "            # --- Store metrics from this D step ---\n",
    "            current_d_loss = d_loss.item() # Store the latest D loss for postfix\n",
    "            epoch_d_loss += current_d_loss # Accumulate total D loss\n",
    "            num_d_updates += 1\n",
    "\n",
    "            # Calculate accuracy only for the *last* D update in this cycle for epoch avg.\n",
    "            if _ == k_steps_D - 1:\n",
    "                 current_d_real_acc = ((torch.sigmoid(d_real_output) > 0.5).float().mean()).item() # Use sigmoid for accuracy check\n",
    "                 current_d_fake_acc = ((torch.sigmoid(d_fake_output) < 0.5).float().mean()).item() # Use sigmoid for accuracy check\n",
    "                 epoch_d_real_acc += current_d_real_acc\n",
    "                 epoch_d_fake_acc += current_d_fake_acc\n",
    "\n",
    "\n",
    "        # ---------------------------------\n",
    "        # Train Generator k_steps_G times\n",
    "        # ---------------------------------\n",
    "        # Only proceed if G needs updates (prevents unnecessary computation if k_steps_G=0)\n",
    "        if k_steps_G > 0:\n",
    "            # Prevent D gradients from affecting G updates\n",
    "            # (May not be strictly necessary if D params aren't used in G loss path,\n",
    "            # but good practice)\n",
    "            for p in D.parameters():\n",
    "                p.requires_grad = False\n",
    "\n",
    "            for _ in range(k_steps_G):\n",
    "                optimizer_G.zero_grad()\n",
    "\n",
    "                # --- Generate New Fake Data ---\n",
    "                z = torch.randn(current_batch_size, noise_dim, device=device)\n",
    "                # Sample fake labels respecting class distribution\n",
    "                fake_labels_dist_g = torch.multinomial(class_weights, current_batch_size, replacement=True)\n",
    "                fake_images_g = G(z, fake_labels_dist_g)\n",
    "\n",
    "                # --- Calculate G Loss (trying to fool D) ---\n",
    "                g_output = D(fake_images_g, fake_labels_dist_g)\n",
    "\n",
    "                # Use non-smoothed real targets for G's objective\n",
    "                if g_output.shape != real_target_unsmoothed.shape:\n",
    "                    raise ValueError(f\"Shape mismatch G: D output {g_output.shape}, target {real_target_unsmoothed.shape}\")\n",
    "\n",
    "                # G wants D to predict fake images as real (output logits close to 1)\n",
    "                g_loss = criterion(g_output, real_target_unsmoothed)\n",
    "\n",
    "                # --- Backpropagation and Update G ---\n",
    "                g_loss.backward()\n",
    "                optimizer_G.step()\n",
    "\n",
    "                # --- Store metrics from this G step ---\n",
    "                current_g_loss = g_loss.item() # Store the latest G loss for postfix\n",
    "                epoch_g_loss += current_g_loss # Accumulate total G loss\n",
    "                num_g_updates += 1\n",
    "\n",
    "            # Re-enable D gradients for the next D update cycle\n",
    "            for p in D.parameters():\n",
    "                p.requires_grad = True\n",
    "\n",
    "\n",
    "        # --- Update Progress Bar ---\n",
    "        # Display the losses/accuracies from the *last* D and G steps of this batch cycle\n",
    "        progress_bar.set_postfix({\n",
    "            'D Loss': f\"{current_d_loss:.4f}\",\n",
    "            'G Loss': f\"{current_g_loss:.4f}\" if k_steps_G > 0 else \"N/A\",\n",
    "            'D Real Acc': f\"{current_d_real_acc:.3f}\",\n",
    "            'D Fake Acc': f\"{current_d_fake_acc:.3f}\"\n",
    "        })\n",
    "        progress_bar.update(1) # Increment progress bar\n",
    "\n",
    "    progress_bar.close() # Close the tqdm bar for the epoch\n",
    "\n",
    "    # --- End of Epoch Calculations and Logging ---\n",
    "    # Calculate average losses and accuracies for the epoch\n",
    "    avg_d_loss = epoch_d_loss / num_d_updates if num_d_updates > 0 else 0\n",
    "    avg_g_loss = epoch_g_loss / num_g_updates if num_g_updates > 0 else 0\n",
    "    # Average accuracies are over the number of batch cycles (len(data_loader))\n",
    "    avg_d_real_acc = epoch_d_real_acc / len(data_loader) if len(data_loader) > 0 else 0\n",
    "    avg_d_fake_acc = epoch_d_fake_acc / len(data_loader) if len(data_loader) > 0 else 0\n",
    "\n",
    "    d_loss_history.append(avg_d_loss)\n",
    "    g_loss_history.append(avg_g_loss)\n",
    "    d_real_acc_history.append(avg_d_real_acc)\n",
    "    d_fake_acc_history.append(avg_d_fake_acc)\n",
    "\n",
    "    # Log metrics to TensorBoard\n",
    "    writer.add_scalar('Loss/Discriminator_Avg', avg_d_loss, epoch)\n",
    "    writer.add_scalar('Loss/Generator_Avg', avg_g_loss, epoch)\n",
    "    writer.add_scalar('Accuracy/D_Real_Avg', avg_d_real_acc, epoch)\n",
    "    writer.add_scalar('Accuracy/D_Fake_Avg', avg_d_fake_acc, epoch)\n",
    "\n",
    "    print(f\"Epoch [{epoch+1}/{num_epochs}] Summary - \"\n",
    "          f\"Avg D Loss: {avg_d_loss:.4f}, Avg G Loss: {avg_g_loss:.4f}, \"\n",
    "          f\"Avg D Real Acc: {avg_d_real_acc:.3f}, Avg D Fake Acc: {avg_d_fake_acc:.3f}\\n\")\n",
    "\n",
    "    # --- Generate and Save Sample Images ---\n",
    "    if (epoch + 1) % log_interval == 0 or epoch == 0 or epoch == num_epochs - 1:\n",
    "        G.eval() # Set G to evaluation mode for generation\n",
    "        fake_samples, sample_labels = generate_samples(num_samples=16, fixed_noise=fixed_noise, fixed_labels=fixed_labels)\n",
    "        fig = create_image_grid(fake_samples, sample_labels, nrow=4) # Assuming nrow=4\n",
    "\n",
    "        # Save figure to TensorBoard\n",
    "        writer.add_figure(f'Generated Traffic Signs/Epoch {epoch+1}', fig, global_step=epoch)\n",
    "\n",
    "        # Save figure to disk\n",
    "        os.makedirs('generated_samples', exist_ok=True)\n",
    "        fig.savefig(f'generated_samples/epoch_{epoch+1:04d}.png') # Use padding for sorting\n",
    "        plt.close(fig) # Close the figure to free memory\n",
    "        G.train() # Set G back to training mode\n",
    "\n",
    "    # --- Save Checkpoint ---\n",
    "    if (epoch + 1) % checkpoint_interval == 0 or epoch == num_epochs - 1:\n",
    "        os.makedirs('checkpoints', exist_ok=True)\n",
    "        \n",
    "        # delete old checkpoints to save space\n",
    "        checkpoints = sorted(os.listdir('checkpoints'))\n",
    "        if len(checkpoints) > 5:\n",
    "            for old_checkpoint in checkpoints[:-1]:\n",
    "                os.remove(os.path.join('checkpoints', old_checkpoint))\n",
    "                print(f\"Deleted old checkpoint: {old_checkpoint}\")\n",
    "                \n",
    "        save_checkpoint(G, D, optimizer_G, optimizer_D, epoch, f'checkpoints/cgan_gtsrb_ksteps_epoch_{epoch+1:04d}.pth')\n",
    "        print(f\"Checkpoint saved for epoch {epoch+1}.\")\n",
    "\n",
    "# --- End of Training ---\n",
    "# Save final model explicitly\n",
    "save_checkpoint(G, D, optimizer_G, optimizer_D, num_epochs, 'checkpoints/cgan_gtsrb_ksteps_final.pth')\n",
    "\n",
    "print(\"Training complete!\")\n",
    "writer.close()"
   ]
  },
  {
   "cell_type": "code",
   "execution_count": 11,
   "metadata": {},
   "outputs": [
    {
     "name": "stdout",
     "output_type": "stream",
     "text": [
      "\n",
      "Plotting loss and accuracy history...\n",
      "Loss graph saved to: plots\\gan_loss_history.png\n"
     ]
    },
    {
     "data": {
      "image/png": "[encoded data removed]",
      "text/plain": [
       "<Figure size 1200x600 with 1 Axes>"
      ]
     },
     "metadata": {},
     "output_type": "display_data"
    },
    {
     "name": "stdout",
     "output_type": "stream",
     "text": [
      "Accuracy graph saved to: plots\\gan_accuracy_history.png\n"
     ]
    },
    {
     "data": {
      "image/png": "[encoded data removed]",
      "text/plain": [
       "<Figure size 1200x600 with 1 Axes>"
      ]
     },
     "metadata": {},
     "output_type": "display_data"
    }
   ],
   "source": [
    "import matplotlib.pyplot as plt\n",
    "import os\n",
    "\n",
    "# --- Assume Training Loop Finished ---\n",
    "# Make sure these lists exist and are populated correctly:\n",
    "# d_loss_history = [...] # Avg D loss per epoch\n",
    "# g_loss_history = [...] # Avg G loss per epoch\n",
    "# d_real_acc_history = [...] # Avg D real accuracy per epoch\n",
    "# d_fake_acc_history = [...] # Avg D fake accuracy per epoch\n",
    "\n",
    "print(\"\\nPlotting loss and accuracy history...\")\n",
    "\n",
    "# --- Directory for Plots ---\n",
    "plot_dir = 'plots'\n",
    "os.makedirs(plot_dir, exist_ok=True)\n",
    "\n",
    "# --- Plot Losses ---\n",
    "if d_loss_history and g_loss_history:\n",
    "    epochs = range(1, len(d_loss_history) + 1)\n",
    "    plt.figure(figsize=(12, 6))\n",
    "    plt.plot(epochs, g_loss_history, label='Generator Average Loss', color='deepskyblue')\n",
    "    plt.plot(epochs, d_loss_history, label='Discriminator Average Loss', color='salmon')\n",
    "    plt.title('Average Generator and Discriminator Loss per Epoch')\n",
    "    plt.xlabel('Epoch')\n",
    "    plt.ylabel('Loss (BCEWithLogitsLoss)')\n",
    "    plt.legend()\n",
    "    plt.grid(True, linestyle='--', alpha=0.7)\n",
    "\n",
    "    # Save the loss plot\n",
    "    loss_plot_filename = os.path.join(plot_dir, 'gan_loss_history.png')\n",
    "    try:\n",
    "        plt.savefig(loss_plot_filename)\n",
    "        print(f\"Loss graph saved to: {loss_plot_filename}\")\n",
    "    except Exception as e:\n",
    "        print(f\"Error saving loss graph: {e}\")\n",
    "    plt.show() # Optional: Show interactively\n",
    "    plt.close() # Close the figure\n",
    "else:\n",
    "    print(\"Skipping loss plot (history lists missing or empty).\")\n",
    "\n",
    "\n",
    "# --- Plot Accuracies ---\n",
    "# Make sure history lists for accuracy exist\n",
    "if d_real_acc_history and d_fake_acc_history:    \n",
    "    \n",
    "    # Define epochs if not already defined (in case loss plot was skipped)\n",
    "    if 'epochs' not in locals():\n",
    "        epochs = range(1, len(d_real_acc_history) + 1)\n",
    "\n",
    "    plt.figure(figsize=(12, 6))\n",
    "    # Plot the ACTUAL accuracy histories\n",
    "    plt.plot(epochs, d_real_acc_history, label='Discriminator Real Accuracy', color='forestgreen')\n",
    "    plt.plot(epochs, d_fake_acc_history, label='Discriminator Fake Accuracy', color='darkorange')\n",
    "    plt.title('Average Discriminator Accuracy per Epoch')\n",
    "    plt.xlabel('Epoch')\n",
    "    plt.ylabel('Accuracy')\n",
    "    plt.ylim(0, 1.05) # Set Y-axis limits for accuracy (0 to 1)\n",
    "    plt.legend()\n",
    "    plt.grid(True, linestyle='--', alpha=0.7)\n",
    "\n",
    "    # Save the accuracy plot\n",
    "    acc_plot_filename = os.path.join(plot_dir, 'gan_accuracy_history.png')\n",
    "    try:\n",
    "        plt.savefig(acc_plot_filename)\n",
    "        print(f\"Accuracy graph saved to: {acc_plot_filename}\")\n",
    "    except Exception as e:\n",
    "        print(f\"Error saving accuracy graph: {e}\")\n",
    "    plt.show() # Optional: Show interactively\n",
    "    plt.close() # Close the figure\n",
    "else:\n",
    "    print(\"Skipping accuracy plot (history lists missing or empty).\")"
   ]
  },
  {
   "cell_type": "code",
   "execution_count": 12,
   "metadata": {},
   "outputs": [
    {
     "name": "stdout",
     "output_type": "stream",
     "text": [
      "Final model saved to: models\\goodrun_c2_tanay.pth\n"
     ]
    }
   ],
   "source": [
    "# Save the final model explicitly\n",
    "save_name = \"goodrun_c2_tanay\"\n",
    "save_path = os.path.join('models', f'{save_name}.pth')\n",
    "os.makedirs('models', exist_ok=True)\n",
    "\n",
    "# save the model weights\n",
    "\n",
    "torch.save({\n",
    "    'generator_state_dict': G.state_dict(),\n",
    "    'discriminator_state_dict': D.state_dict(),\n",
    "    'optimizer_G_state_dict': optimizer_G.state_dict(),\n",
    "    'optimizer_D_state_dict': optimizer_D.state_dict(),\n",
    "}, save_path)\n",
    "print(f\"Final model saved to: {save_path}\")"
   ]
  },
  {
   "cell_type": "code",
   "execution_count": 13,
   "metadata": {},
   "outputs": [
    {
     "data": {
      "image/png": "[encoded data removed]",
      "text/plain": [
       "<Figure size 1200x1200 with 36 Axes>"
      ]
     },
     "metadata": {},
     "output_type": "display_data"
    }
   ],
   "source": [
    "# Generate final samples\n",
    "fake_samples, sample_labels = generate_samples(num_samples=36)\n",
    "fig = create_image_grid(fake_samples, sample_labels, nrow=6)\n",
    "fig.savefig('final_generated_samples_tanay.png')\n",
    "plt.show()"
   ]
  },
  {
   "cell_type": "code",
   "execution_count": null,
   "metadata": {},
   "outputs": [],
   "source": []
  }
 ],
 "metadata": {
  "kernelspec": {
   "display_name": "venv",
   "language": "python",
   "name": "python3"
  },
  "language_info": {
   "codemirror_mode": {
    "name": "ipython",
    "version": 3
   },
   "file_extension": ".py",
   "mimetype": "text/x-python",
   "name": "python",
   "nbconvert_exporter": "python",
   "pygments_lexer": "ipython3",
   "version": "3.11.1"
  }
 },
 "nbformat": 4,
 "nbformat_minor": 2
}
